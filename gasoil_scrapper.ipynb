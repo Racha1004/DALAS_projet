{
 "cells": [
  {
   "cell_type": "markdown",
   "metadata": {},
   "source": [
    "## On scrappe ici une page comportant l'ensemble de prix du carburant  :"
   ]
  },
  {
   "cell_type": "code",
   "execution_count": 11,
   "metadata": {},
   "outputs": [],
   "source": [
    "\n",
    "import bs4\n",
    "import lxml\n",
    "import pandas\n",
    "import urllib\n",
    "import pandas as pd\n",
    "from urllib import request"
   ]
  },
  {
   "cell_type": "markdown",
   "metadata": {},
   "source": [
    "## Lecture de la page :"
   ]
  },
  {
   "cell_type": "code",
   "execution_count": 39,
   "metadata": {},
   "outputs": [
    {
     "name": "stdout",
     "output_type": "stream",
     "text": [
      "b'<!DOCTYPE html><html lang=\"fr\" xml:lang=\"fr\"><head><title>Prix des carburants: trouvez le moins cher dans votre d&#233;partement</title><meta name=\"viewport\" content=\"width=device-width, initial-scale=1.0, maximum-scale=3.0, minimum-scale=1.0\" /><meta name=\"author\" content=\"carburants.org\" /><meta name=\"copyright\" content=\"carburants.org\" /><meta name=\"robots\" content=\"index,follow\" /><meta property=\"og:site_name\" content=\"Carburants.org\" /><meta property=\"og:url\" content=\"https://www.carburants.org/prix-carburants/\" /><meta property=\"og:locale\" content=\"fr_FR\" /><meta property=\"og:type\" content=\"article\" /><meta property=\"og:title\" content=\"CARBURANTS - Prix des carburants: trouvez le moins cher dans votre d&#233;partement\" /><meta property=\"og:image\" content=\"https://www.carburants.org/i/logo512.png\" /><meta property=\"og:description\" content=\"Prix des carburants par d&#233;partement, retrouvez les disparit&#233;s des prix de l\\'essence &#224; la pompe entre les d&#233;partements\" /><m'\n",
      "\n",
      "\n",
      "<title>Prix des carburants: trouvez le moins cher dans votre département</title>\n"
     ]
    }
   ],
   "source": [
    "carburant = \"https://www.carburants.org/prix-carburants/\"\n",
    "\n",
    "request_text = request.urlopen(carburant).read()\n",
    "\n",
    "print(request_text[:1000])\n",
    "print(\"\\n\")\n",
    "\n",
    "page = bs4.BeautifulSoup(request_text, \"lxml\")\n",
    "page.encode('utf-8')\n",
    "print(page.find(\"title\"))"
   ]
  },
  {
   "cell_type": "markdown",
   "metadata": {},
   "source": [
    "## Trouver la table :"
   ]
  },
  {
   "cell_type": "code",
   "execution_count": 40,
   "metadata": {},
   "outputs": [
    {
     "data": {
      "text/plain": [
       "<table class=\"table table-hover tablesorter\" id=\"ctl00_ContentPlaceHolder1_UCIntermediaire_UCCarburantStatsDepartements_tblDept\"><thead><tr><th>DÃ©partement</th><th>Gasoil</th><th>SP98</th><th>SP95</th><th>E10</th><th>E85</th><th>GPL</th></tr></thead><tbody><tr><td><a class=\"d-block\" href=\"/prix-carburants/ain.01/\">Ain (01)</a></td><td style=\"vertical-align:middle;background-color:rgba(171,211,127,.6)\">1,851€</td><td style=\"vertical-align:middle;background-color:rgba(254,227,130,.6)\">1,952€</td><td style=\"vertical-align:middle;background-color:rgba(182,214,127,.6)\">1,890€</td><td style=\"vertical-align:middle;background-color:rgba(220,225,129,.6)\">1,859€</td><td style=\"vertical-align:middle;background-color:rgba(143,202,125,.6)\">0,894€</td><td style=\"vertical-align:middle;background-color:rgba(181,214,127,.6)\">1,036€</td></tr><tr><td><a class=\"d-block\" href=\"/prix-carburants/aisne.02/\">Aisne (02)</a></td><td style=\"vertical-align:middle;background-color:rgba(136,200,125,.6)\">1,830€</td><td style=\"vertical-align:middle;background-color:rgba(196,218,128,.6)\">1,916€</td><td style=\"vertical-align:middle;background-color:rgba(136,200,125,.6)\">1,852€</td><td style=\"vertical-align:middle;background-color:rgba(165,209,126,.6)\">1,826€</td><td style=\"vertical-align:middle;background-color:rgba(161,208,126,.6)\">0,906€</td><td style=\"vertical-align:middle;background-color:rgba(173,211,127,.6)\">1,027€</td></tr><tr><td><a class=\"d-block\" href=\"/prix-carburants/allier.03/\">Allier (03)</a></td><td style=\"vertical-align:middle;background-color:rgba(177,213,127,.6)\">1,855€</td><td style=\"vertical-align:middle;background-color:rgba(227,227,130,.6)\">1,932€</td><td style=\"vertical-align:middle;background-color:rgba(162,208,126,.6)\">1,873€</td><td style=\"vertical-align:middle;background-color:rgba(222,226,130,.6)\">1,860€</td><td style=\"vertical-align:middle;background-color:rgba(213,223,129,.6)\">0,941€</td><td style=\"vertical-align:middle;background-color:rgba(146,203,125,.6)\">0,996€</td></tr><tr><td><a class=\"d-block\" href=\"/prix-carburants/alpes-de-haute-provence.04/\">Alpes-de-Haute-Provence (04)</a></td><td style=\"vertical-align:middle;background-color:rgba(172,211,127,.6)\">1,852€</td><td style=\"vertical-align:middle;background-color:rgba(217,224,129,.6)\">1,927€</td><td style=\"vertical-align:middle;background-color:rgba(198,219,128,.6)\">1,903€</td><td style=\"vertical-align:middle;background-color:rgba(208,222,129,.6)\">1,852€</td><td style=\"vertical-align:middle;background-color:rgba(195,218,128,.6)\">0,929€</td><td style=\"vertical-align:middle;background-color:rgba(125,197,124,.6)\">0,972€</td></tr><tr><td><a class=\"d-block\" href=\"/prix-carburants/hautes-alpes.05/\">Hautes-Alpes (05)</a></td><td style=\"vertical-align:middle;background-color:rgba(131,199,124,.6)\">1,827€</td><td style=\"vertical-align:middle;background-color:rgba(207,221,129,.6)\">1,922€</td><td style=\"vertical-align:middle;background-color:rgba(189,216,128,.6)\">1,895€</td><td style=\"vertical-align:middle;background-color:rgba(161,208,126,.6)\">1,823€</td><td style=\"vertical-align:middle;background-color:rgba(168,210,126,.6)\">0,911€</td><td style=\"vertical-align:middle;background-color:rgba(179,213,127,.6)\">1,034€</td></tr><tr><td><a class=\"d-block\" href=\"/prix-carburants/alpes-maritimes.06/\">Alpes-Maritimes (06)</a></td><td style=\"vertical-align:middle;background-color:rgba(181,214,127,.6)\">1,857€</td><td style=\"vertical-align:middle;background-color:rgba(254,228,130,.6)\">1,951€</td><td style=\"vertical-align:middle;background-color:rgba(211,222,129,.6)\">1,913€</td><td style=\"vertical-align:middle;background-color:rgba(225,227,130,.6)\">1,862€</td><td style=\"vertical-align:middle;background-color:rgba(183,214,127,.6)\">0,921€</td><td style=\"vertical-align:middle;background-color:rgba(152,205,126,.6)\">1,003€</td></tr><tr><td><a class=\"d-block\" href=\"/prix-carburants/ardeche.07/\">ArdÃ¨che (07)</a></td><td style=\"vertical-align:middle;background-color:rgba(129,198,124,.6)\">1,826€</td><td style=\"vertical-align:middle;background-color:rgba(203,220,129,.6)\">1,920€</td><td style=\"vertical-align:middle;background-color:rgba(156,206,126,.6)\">1,868€</td><td style=\"vertical-align:middle;background-color:rgba(187,215,128,.6)\">1,839€</td><td style=\"vertical-align:middle;background-color:rgba(235,230,130,.6)\">0,956€</td><td style=\"vertical-align:middle;background-color:rgba(140,202,125,.6)\">0,989€</td></tr><tr><td><a class=\"d-block\" href=\"/prix-carburants/ardennes.08/\">Ardennes (08)</a></td><td style=\"vertical-align:middle;background-color:rgba(156,206,126,.6)\">1,842€</td><td style=\"vertical-align:middle;background-color:rgba(207,221,129,.6)\">1,922€</td><td style=\"vertical-align:middle;background-color:rgba(163,208,126,.6)\">1,874€</td><td style=\"vertical-align:middle;background-color:rgba(193,217,128,.6)\">1,843€</td><td style=\"vertical-align:middle;background-color:rgba(125,197,124,.6)\">0,882€</td><td style=\"vertical-align:middle;background-color:rgba(153,205,126,.6)\">1,004€</td></tr><tr><td><a class=\"d-block\" href=\"/prix-carburants/ariege.09/\">AriÃ¨ge (09)</a></td><td style=\"vertical-align:middle;background-color:rgba(143,202,125,.6)\">1,834€</td><td style=\"vertical-align:middle;background-color:rgba(207,221,129,.6)\">1,922€</td><td style=\"vertical-align:middle;background-color:rgba(172,211,127,.6)\">1,881€</td><td style=\"vertical-align:middle;background-color:rgba(208,222,129,.6)\">1,852€</td><td style=\"vertical-align:middle;background-color:rgba(155,206,126,.6)\">0,902€</td><td style=\"vertical-align:middle;background-color:rgba(145,203,125,.6)\">0,995€</td></tr><tr><td><a class=\"d-block\" href=\"/prix-carburants/aube.10/\">Aube (10)</a></td><td style=\"vertical-align:middle;background-color:rgba(167,210,126,.6)\">1,849€</td><td style=\"vertical-align:middle;background-color:rgba(202,220,128,.6)\">1,919€</td><td style=\"vertical-align:middle;background-color:rgba(163,208,126,.6)\">1,874€</td><td style=\"vertical-align:middle;background-color:rgba(192,217,128,.6)\">1,842€</td><td style=\"vertical-align:middle;background-color:rgba(165,209,126,.6)\">0,909€</td><td style=\"vertical-align:middle;background-color:rgba(133,200,124,.6)\">0,981€</td></tr><tr><td><a class=\"d-block\" href=\"/prix-carburants/aude.11/\">Aude (11)</a></td><td style=\"vertical-align:middle;background-color:rgba(139,201,125,.6)\">1,832€</td><td style=\"vertical-align:middle;background-color:rgba(223,226,130,.6)\">1,930€</td><td style=\"vertical-align:middle;background-color:rgba(168,210,126,.6)\">1,878€</td><td style=\"vertical-align:middle;background-color:rgba(203,220,129,.6)\">1,849€</td><td style=\"vertical-align:middle;background-color:rgba(219,225,129,.6)\">0,945€</td><td style=\"vertical-align:middle;background-color:rgba(184,215,127,.6)\">1,040€</td></tr><tr><td><a class=\"d-block\" href=\"/prix-carburants/aveyron.12/\">Aveyron (12)</a></td><td style=\"vertical-align:middle;background-color:rgba(131,199,124,.6)\">1,827€</td><td style=\"vertical-align:middle;background-color:rgba(202,220,128,.6)\">1,919€</td><td style=\"vertical-align:middle;background-color:rgba(172,211,127,.6)\">1,881€</td><td style=\"vertical-align:middle;background-color:rgba(172,211,127,.6)\">1,830€</td><td style=\"vertical-align:middle;background-color:rgba(196,218,128,.6)\">0,930€</td><td style=\"vertical-align:middle;background-color:rgba(157,206,126,.6)\">1,008€</td></tr><tr><td><a class=\"d-block\" href=\"/prix-carburants/bouches-du-rhone.13/\">Bouches-du-RhÃ´ne (13)</a></td><td style=\"vertical-align:middle;background-color:rgba(136,200,125,.6)\">1,830€</td><td style=\"vertical-align:middle;background-color:rgba(219,225,129,.6)\">1,928€</td><td style=\"vertical-align:middle;background-color:rgba(162,208,126,.6)\">1,873€</td><td style=\"vertical-align:middle;background-color:rgba(179,213,127,.6)\">1,834€</td><td style=\"vertical-align:middle;background-color:rgba(174,212,127,.6)\">0,915€</td><td style=\"vertical-align:middle;background-color:rgba(138,201,125,.6)\">0,986€</td></tr><tr><td><a class=\"d-block\" href=\"/prix-carburants/calvados.14/\">Calvados (14)</a></td><td style=\"vertical-align:middle;background-color:rgba(133,199,124,.6)\">1,828€</td><td style=\"vertical-align:middle;background-color:rgba(167,209,126,.6)\">1,901€</td><td style=\"vertical-align:middle;background-color:rgba(134,200,124,.6)\">1,850€</td><td style=\"vertical-align:middle;background-color:rgba(156,206,126,.6)\">1,820€</td><td style=\"vertical-align:middle;background-color:rgba(153,205,126,.6)\">0,901€</td><td style=\"vertical-align:middle;background-color:rgba(158,207,126,.6)\">1,009€</td></tr><tr><td><a class=\"d-block\" href=\"/prix-carburants/cantal.15/\">Cantal (15)</a></td><td style=\"vertical-align:middle;background-color:rgba(154,206,126,.6)\">1,841€</td><td style=\"vertical-align:middle;background-color:rgba(207,221,129,.6)\">1,922€</td><td style=\"vertical-align:middle;background-color:rgba(182,214,127,.6)\">1,890€</td><td style=\"vertical-align:middle;background-color:rgba(161,208,126,.6)\">1,823€</td><td style=\"vertical-align:middle;background-color:rgba(138,201,125,.6)\">0,891€</td><td style=\"vertical-align:middle;background-color:rgba(240,240,240,.6)\"></td></tr><tr><td><a class=\"d-block\" href=\"/prix-carburants/charente.16/\">Charente (16)</a></td><td style=\"vertical-align:middle;background-color:rgba(113,193,123,.6)\">1,816€</td><td style=\"vertical-align:middle;background-color:rgba(150,204,125,.6)\">1,892€</td><td style=\"vertical-align:middle;background-color:rgba(128,198,124,.6)\">1,845€</td><td style=\"vertical-align:middle;background-color:rgba(144,203,125,.6)\">1,813€</td><td style=\"vertical-align:middle;background-color:rgba(143,202,125,.6)\">0,894€</td><td style=\"vertical-align:middle;background-color:rgba(144,203,125,.6)\">0,993€</td></tr><tr><td><a class=\"d-block\" href=\"/prix-carburants/charente-maritime.17/\">Charente-Maritime (17)</a></td><td style=\"vertical-align:middle;background-color:rgba(111,193,123,.6)\">1,815€</td><td style=\"vertical-align:middle;background-color:rgba(148,204,125,.6)\">1,891€</td><td style=\"vertical-align:middle;background-color:rgba(126,197,124,.6)\">1,844€</td><td style=\"vertical-align:middle;background-color:rgba(132,199,124,.6)\">1,806€</td><td style=\"vertical-align:middle;background-color:rgba(176,212,127,.6)\">0,916€</td><td style=\"vertical-align:middle;background-color:rgba(151,205,126,.6)\">1,002€</td></tr><tr><td><a class=\"d-block\" href=\"/prix-carburants/cher.18/\">Cher (18)</a></td><td style=\"vertical-align:middle;background-color:rgba(154,206,126,.6)\">1,841€</td><td style=\"vertical-align:middle;background-color:rgba(198,219,128,.6)\">1,917€</td><td style=\"vertical-align:middle;background-color:rgba(174,212,127,.6)\">1,883€</td><td style=\"vertical-align:middle;background-color:rgba(172,211,127,.6)\">1,830€</td><td style=\"vertical-align:middle;background-color:rgba(132,199,124,.6)\">0,887€</td><td style=\"vertical-align:middle;background-color:rgba(153,205,126,.6)\">1,004€</td></tr><tr><td><a class=\"d-block\" href=\"/prix-carburants/correze.19/\">CorrÃ¨ze (19)</a></td><td style=\"vertical-align:middle;background-color:rgba(141,202,125,.6)\">1,833€</td><td style=\"vertical-align:middle;background-color:rgba(196,218,128,.6)\">1,916€</td><td style=\"vertical-align:middle;background-color:rgba(135,200,125,.6)\">1,851€</td><td style=\"vertical-align:middle;background-color:rgba(156,206,126,.6)\">1,820€</td><td style=\"vertical-align:middle;background-color:rgba(184,215,127,.6)\">0,922€</td><td style=\"vertical-align:middle;background-color:rgba(188,216,128,.6)\">1,044€</td></tr><tr><td><a class=\"d-block\" href=\"/prix-carburants/corse.20/\">Corse (20)</a></td><td style=\"vertical-align:middle;background-color:rgba(253,203,125,.6)\">1,925€</td><td style=\"vertical-align:middle;background-color:rgba(240,240,240,.6)\"></td><td style=\"vertical-align:middle;background-color:rgba(245,233,131,.6)\">1,941€</td><td style=\"vertical-align:middle;background-color:rgba(240,240,240,.6)\"></td><td style=\"vertical-align:middle;background-color:rgba(240,240,240,.6)\"></td><td style=\"vertical-align:middle;background-color:rgba(248,105,107,.6)\">1,300€</td></tr><tr><td><a class=\"d-block\" href=\"/prix-carburants/cote-d-or.21/\">CÃ´te-d'Or (21)</a></td><td style=\"vertical-align:middle;background-color:rgba(201,220,128,.6)\">1,869€</td><td style=\"vertical-align:middle;background-color:rgba(254,222,129,.6)\">1,955€</td><td style=\"vertical-align:middle;background-color:rgba(213,223,129,.6)\">1,915€</td><td style=\"vertical-align:middle;background-color:rgba(231,229,130,.6)\">1,866€</td><td style=\"vertical-align:middle;background-color:rgba(181,214,127,.6)\">0,920€</td><td style=\"vertical-align:middle;background-color:rgba(209,222,129,.6)\">1,069€</td></tr><tr><td><a class=\"d-block\" href=\"/prix-carburants/cotes-d-armor.22/\">CÃ´tes-d'Armor (22)</a></td><td style=\"vertical-align:middle;background-color:rgba(114,194,123,.6)\">1,817€</td><td style=\"vertical-align:middle;background-color:rgba(111,193,123,.6)\">1,872€</td><td style=\"vertical-align:middle;background-color:rgba(119,195,124,.6)\">1,838€</td><td style=\"vertical-align:middle;background-color:rgba(116,194,123,.6)\">1,796€</td><td style=\"vertical-align:middle;background-color:rgba(165,209,126,.6)\">0,909€</td><td style=\"vertical-align:middle;background-color:rgba(114,194,123,.6)\">0,959€</td></tr><tr><td><a class=\"d-block\" href=\"/prix-carburants/creuse.23/\">Creuse (23)</a></td><td style=\"vertical-align:middle;background-color:rgba(192,217,128,.6)\">1,864€</td><td style=\"vertical-align:middle;background-color:rgba(234,229,130,.6)\">1,936€</td><td style=\"vertical-align:middle;background-color:rgba(162,208,126,.6)\">1,873€</td><td style=\"vertical-align:middle;background-color:rgba(205,221,129,.6)\">1,850€</td><td style=\"vertical-align:middle;background-color:rgba(170,210,127,.6)\">0,912€</td><td style=\"vertical-align:middle;background-color:rgba(192,217,128,.6)\">1,049€</td></tr><tr><td><a class=\"d-block\" href=\"/prix-carburants/dordogne.24/\">Dordogne (24)</a></td><td style=\"vertical-align:middle;background-color:rgba(126,197,124,.6)\">1,824€</td><td style=\"vertical-align:middle;background-color:rgba(142,202,125,.6)\">1,888€</td><td style=\"vertical-align:middle;background-color:rgba(150,204,125,.6)\">1,863€</td><td style=\"vertical-align:middle;background-color:rgba(129,198,124,.6)\">1,804€</td><td style=\"vertical-align:middle;background-color:rgba(137,201,125,.6)\">0,890€</td><td style=\"vertical-align:middle;background-color:rgba(129,198,124,.6)\">0,976€</td></tr><tr><td><a class=\"d-block\" href=\"/prix-carburants/doubs.25/\">Doubs (25)</a></td><td style=\"vertical-align:middle;background-color:rgba(143,202,125,.6)\">1,834€</td><td style=\"vertical-align:middle;background-color:rgba(207,221,129,.6)\">1,922€</td><td style=\"vertical-align:middle;background-color:rgba(151,205,125,.6)\">1,864€</td><td style=\"vertical-align:middle;background-color:rgba(162,208,126,.6)\">1,824€</td><td style=\"vertical-align:middle;background-color:rgba(183,214,127,.6)\">0,921€</td><td style=\"vertical-align:middle;background-color:rgba(156,206,126,.6)\">1,007€</td></tr><tr><td><a class=\"d-block\" href=\"/prix-carburants/drome.26/\">DrÃ´me (26)</a></td><td style=\"vertical-align:middle;background-color:rgba(144,203,125,.6)\">1,835€</td><td style=\"vertical-align:middle;background-color:rgba(223,226,130,.6)\">1,930€</td><td style=\"vertical-align:middle;background-color:rgba(146,203,125,.6)\">1,860€</td><td style=\"vertical-align:middle;background-color:rgba(197,218,128,.6)\">1,845€</td><td style=\"vertical-align:middle;background-color:rgba(156,206,126,.6)\">0,903€</td><td style=\"vertical-align:middle;background-color:rgba(193,217,128,.6)\">1,050€</td></tr><tr><td><a class=\"d-block\" href=\"/prix-carburants/eure.27/\">Eure (27)</a></td><td style=\"vertical-align:middle;background-color:rgba(143,202,125,.6)\">1,834€</td><td style=\"vertical-align:middle;background-color:rgba(157,207,126,.6)\">1,896€</td><td style=\"vertical-align:middle;background-color:rgba(137,201,125,.6)\">1,853€</td><td style=\"vertical-align:middle;background-color:rgba(164,209,126,.6)\">1,825€</td><td style=\"vertical-align:middle;background-color:rgba(207,221,129,.6)\">0,937€</td><td style=\"vertical-align:middle;background-color:rgba(154,206,126,.6)\">1,005€</td></tr><tr><td><a class=\"d-block\" href=\"/prix-carburants/eure-et-loir.28/\">Eure-et-Loir (28)</a></td><td style=\"vertical-align:middle;background-color:rgba(151,205,125,.6)\">1,839€</td><td style=\"vertical-align:middle;background-color:rgba(209,222,129,.6)\">1,923€</td><td style=\"vertical-align:middle;background-color:rgba(120,196,124,.6)\">1,839€</td><td style=\"vertical-align:middle;background-color:rgba(193,217,128,.6)\">1,843€</td><td style=\"vertical-align:middle;background-color:rgba(158,207,126,.6)\">0,904€</td><td style=\"vertical-align:middle;background-color:rgba(119,195,124,.6)\">0,965€</td></tr><tr><td><a class=\"d-block\" href=\"/prix-carburants/finistere.29/\">FinistÃ¨re (29)</a></td><td style=\"vertical-align:middle;background-color:rgba(100,190,123,.6)\">1,808€</td><td style=\"vertical-align:middle;background-color:rgba(100,190,123,.6)\">1,866€</td><td style=\"vertical-align:middle;background-color:rgba(110,193,123,.6)\">1,831€</td><td style=\"vertical-align:middle;background-color:rgba(104,191,123,.6)\">1,789€</td><td style=\"vertical-align:middle;background-color:rgba(156,206,126,.6)\">0,903€</td><td style=\"vertical-align:middle;background-color:rgba(116,194,123,.6)\">0,961€</td></tr><tr><td><a class=\"d-block\" href=\"/prix-carburants/gard.30/\">Gard (30)</a></td><td style=\"vertical-align:middle;background-color:rgba(124,197,124,.6)\">1,823€</td><td style=\"vertical-align:middle;background-color:rgba(194,217,128,.6)\">1,915€</td><td style=\"vertical-align:middle;background-color:rgba(153,205,126,.6)\">1,866€</td><td style=\"vertical-align:middle;background-color:rgba(164,209,126,.6)\">1,825€</td><td style=\"vertical-align:middle;background-color:rgba(176,212,127,.6)\">0,916€</td><td style=\"vertical-align:middle;background-color:rgba(138,201,125,.6)\">0,986€</td></tr><tr><td><a class=\"d-block\" href=\"/prix-carburants/haute-garonne.31/\">Haute-Garonne (31)</a></td><td style=\"vertical-align:middle;background-color:rgba(164,209,126,.6)\">1,847€</td><td style=\"vertical-align:middle;background-color:rgba(213,223,129,.6)\">1,925€</td><td style=\"vertical-align:middle;background-color:rgba(181,214,127,.6)\">1,889€</td><td style=\"vertical-align:middle;background-color:rgba(193,217,128,.6)\">1,843€</td><td style=\"vertical-align:middle;background-color:rgba(167,209,126,.6)\">0,910€</td><td style=\"vertical-align:middle;background-color:rgba(183,214,127,.6)\">1,039€</td></tr><tr><td><a class=\"d-block\" href=\"/prix-carburants/gers.32/\">Gers (32)</a></td><td style=\"vertical-align:middle;background-color:rgba(166,209,126,.6)\">1,848€</td><td style=\"vertical-align:middle;background-color:rgba(192,217,128,.6)\">1,914€</td><td style=\"vertical-align:middle;background-color:rgba(151,205,125,.6)\">1,864€</td><td style=\"vertical-align:middle;background-color:rgba(185,215,127,.6)\">1,838€</td><td style=\"vertical-align:middle;background-color:rgba(254,233,131,.6)\">0,971€</td><td style=\"vertical-align:middle;background-color:rgba(206,221,129,.6)\">1,065€</td></tr><tr><td><a class=\"d-block\" href=\"/prix-carburants/gironde.33/\">Gironde (33)</a></td><td style=\"vertical-align:middle;background-color:rgba(134,200,125,.6)\">1,829€</td><td style=\"vertical-align:middle;background-color:rgba(182,214,127,.6)\">1,909€</td><td style=\"vertical-align:middle;background-color:rgba(106,191,123,.6)\">1,827€</td><td style=\"vertical-align:middle;background-color:rgba(157,207,126,.6)\">1,821€</td><td style=\"vertical-align:middle;background-color:rgba(158,207,126,.6)\">0,904€</td><td style=\"vertical-align:middle;background-color:rgba(141,202,125,.6)\">0,990€</td></tr><tr><td><a class=\"d-block\" href=\"/prix-carburants/herault.34/\">HÃ©rault (34)</a></td><td style=\"vertical-align:middle;background-color:rgba(151,205,125,.6)\">1,839€</td><td style=\"vertical-align:middle;background-color:rgba(225,227,130,.6)\">1,931€</td><td style=\"vertical-align:middle;background-color:rgba(159,207,126,.6)\">1,871€</td><td style=\"vertical-align:middle;background-color:rgba(205,221,129,.6)\">1,850€</td><td style=\"vertical-align:middle;background-color:rgba(164,209,126,.6)\">0,908€</td><td style=\"vertical-align:middle;background-color:rgba(199,219,128,.6)\">1,057€</td></tr><tr><td><a class=\"d-block\" href=\"/prix-carburants/ille-et-vilaine.35/\">Ille-et-Vilaine (35)</a></td><td style=\"vertical-align:middle;background-color:rgba(119,195,124,.6)\">1,820€</td><td style=\"vertical-align:middle;background-color:rgba(140,201,125,.6)\">1,887€</td><td style=\"vertical-align:middle;background-color:rgba(100,190,123,.6)\">1,822€</td><td style=\"vertical-align:middle;background-color:rgba(131,199,124,.6)\">1,805€</td><td style=\"vertical-align:middle;background-color:rgba(167,209,126,.6)\">0,910€</td><td style=\"vertical-align:middle;background-color:rgba(114,194,123,.6)\">0,959€</td></tr><tr><td><a class=\"d-block\" href=\"/prix-carburants/indre.36/\">Indre (36)</a></td><td style=\"vertical-align:middle;background-color:rgba(149,204,125,.6)\">1,838€</td><td style=\"vertical-align:middle;background-color:rgba(186,215,128,.6)\">1,911€</td><td style=\"vertical-align:middle;background-color:rgba(134,200,124,.6)\">1,850€</td><td style=\"vertical-align:middle;background-color:rgba(165,209,126,.6)\">1,826€</td><td style=\"vertical-align:middle;background-color:rgba(174,212,127,.6)\">0,915€</td><td style=\"vertical-align:middle;background-color:rgba(184,215,127,.6)\">1,040€</td></tr><tr><td><a class=\"d-block\" href=\"/prix-carburants/indre-et-loire.37/\">Indre-et-Loire (37)</a></td><td style=\"vertical-align:middle;background-color:rgba(143,202,125,.6)\">1,834€</td><td style=\"vertical-align:middle;background-color:rgba(173,211,127,.6)\">1,904€</td><td style=\"vertical-align:middle;background-color:rgba(115,194,123,.6)\">1,835€</td><td style=\"vertical-align:middle;background-color:rgba(169,210,127,.6)\">1,828€</td><td style=\"vertical-align:middle;background-color:rgba(150,205,125,.6)\">0,899€</td><td style=\"vertical-align:middle;background-color:rgba(177,213,127,.6)\">1,032€</td></tr><tr><td><a class=\"d-block\" href=\"/prix-carburants/isere.38/\">IsÃ¨re (38)</a></td><td style=\"vertical-align:middle;background-color:rgba(158,207,126,.6)\">1,843€</td><td style=\"vertical-align:middle;background-color:rgba(254,235,131,.6)\">1,946€</td><td style=\"vertical-align:middle;background-color:rgba(163,208,126,.6)\">1,874€</td><td style=\"vertical-align:middle;background-color:rgba(208,222,129,.6)\">1,852€</td><td style=\"vertical-align:middle;background-color:rgba(178,213,127,.6)\">0,918€</td><td style=\"vertical-align:middle;background-color:rgba(155,206,126,.6)\">1,006€</td></tr><tr><td><a class=\"d-block\" href=\"/prix-carburants/jura.39/\">Jura (39)</a></td><td style=\"vertical-align:middle;background-color:rgba(181,214,127,.6)\">1,857€</td><td style=\"vertical-align:middle;background-color:rgba(254,220,129,.6)\">1,956€</td><td style=\"vertical-align:middle;background-color:rgba(182,214,127,.6)\">1,890€</td><td style=\"vertical-align:middle;background-color:rgba(210,222,129,.6)\">1,853€</td><td style=\"vertical-align:middle;background-color:rgba(176,212,127,.6)\">0,916€</td><td style=\"vertical-align:middle;background-color:rgba(170,210,127,.6)\">1,023€</td></tr><tr><td><a class=\"d-block\" href=\"/prix-carburants/landes.40/\">Landes (40)</a></td><td style=\"vertical-align:middle;background-color:rgba(143,202,125,.6)\">1,834€</td><td style=\"vertical-align:middle;background-color:rgba(196,218,128,.6)\">1,916€</td><td style=\"vertical-align:middle;background-color:rgba(145,203,125,.6)\">1,859€</td><td style=\"vertical-align:middle;background-color:rgba(164,209,126,.6)\">1,825€</td><td style=\"vertical-align:middle;background-color:rgba(174,212,127,.6)\">0,915€</td><td style=\"vertical-align:middle;background-color:rgba(180,213,127,.6)\">1,035€</td></tr><tr><td><a class=\"d-block\" href=\"/prix-carburants/loir-et-cher.41/\">Loir-et-Cher (41)</a></td><td style=\"vertical-align:middle;background-color:rgba(154,206,126,.6)\">1,841€</td><td style=\"vertical-align:middle;background-color:rgba(211,223,129,.6)\">1,924€</td><td style=\"vertical-align:middle;background-color:rgba(119,195,124,.6)\">1,838€</td><td style=\"vertical-align:middle;background-color:rgba(187,215,128,.6)\">1,839€</td><td style=\"vertical-align:middle;background-color:rgba(234,229,130,.6)\">0,955€</td><td style=\"vertical-align:middle;background-color:rgba(166,209,126,.6)\">1,019€</td></tr><tr><td><a class=\"d-block\" href=\"/prix-carburants/loire.42/\">Loire (42)</a></td><td style=\"vertical-align:middle;background-color:rgba(172,211,127,.6)\">1,852€</td><td style=\"vertical-align:middle;background-color:rgba(254,233,131,.6)\">1,948€</td><td style=\"vertical-align:middle;background-color:rgba(190,216,128,.6)\">1,896€</td><td style=\"vertical-align:middle;background-color:rgba(217,224,129,.6)\">1,857€</td><td style=\"vertical-align:middle;background-color:rgba(192,217,128,.6)\">0,927€</td><td style=\"vertical-align:middle;background-color:rgba(138,201,125,.6)\">0,987€</td></tr><tr><td><a class=\"d-block\" href=\"/prix-carburants/haute-loire.43/\">Haute-Loire (43)</a></td><td style=\"vertical-align:middle;background-color:rgba(126,197,124,.6)\">1,824€</td><td style=\"vertical-align:middle;background-color:rgba(175,212,127,.6)\">1,905€</td><td style=\"vertical-align:middle;background-color:rgba(179,213,127,.6)\">1,887€</td><td style=\"vertical-align:middle;background-color:rgba(175,212,127,.6)\">1,832€</td><td style=\"vertical-align:middle;background-color:rgba(176,212,127,.6)\">0,916€</td><td style=\"vertical-align:middle;background-color:rgba(133,200,124,.6)\">0,981€</td></tr><tr><td><a class=\"d-block\" href=\"/prix-carburants/loire-atlantique.44/\">Loire-Atlantique (44)</a></td><td style=\"vertical-align:middle;background-color:rgba(108,192,123,.6)\">1,813€</td><td style=\"vertical-align:middle;background-color:rgba(115,194,123,.6)\">1,874€</td><td style=\"vertical-align:middle;background-color:rgba(125,197,124,.6)\">1,843€</td><td style=\"vertical-align:middle;background-color:rgba(111,193,123,.6)\">1,793€</td><td style=\"vertical-align:middle;background-color:rgba(168,210,126,.6)\">0,911€</td><td style=\"vertical-align:middle;background-color:rgba(116,194,123,.6)\">0,961€</td></tr><tr><td><a class=\"d-block\" href=\"/prix-carburants/loiret.45/\">Loiret (45)</a></td><td style=\"vertical-align:middle;background-color:rgba(146,203,125,.6)\">1,836€</td><td style=\"vertical-align:middle;background-color:rgba(188,216,128,.6)\">1,912€</td><td style=\"vertical-align:middle;background-color:rgba(161,208,126,.6)\">1,872€</td><td style=\"vertical-align:middle;background-color:rgba(172,211,127,.6)\">1,830€</td><td style=\"vertical-align:middle;background-color:rgba(153,205,126,.6)\">0,901€</td><td style=\"vertical-align:middle;background-color:rgba(152,205,126,.6)\">1,003€</td></tr><tr><td><a class=\"d-block\" href=\"/prix-carburants/lot.46/\">Lot (46)</a></td><td style=\"vertical-align:middle;background-color:rgba(153,205,126,.6)\">1,840€</td><td style=\"vertical-align:middle;background-color:rgba(207,221,129,.6)\">1,922€</td><td style=\"vertical-align:middle;background-color:rgba(161,208,126,.6)\">1,872€</td><td style=\"vertical-align:middle;background-color:rgba(190,216,128,.6)\">1,841€</td><td style=\"vertical-align:middle;background-color:rgba(199,219,128,.6)\">0,932€</td><td style=\"vertical-align:middle;background-color:rgba(231,229,130,.6)\">1,094€</td></tr><tr><td><a class=\"d-block\" href=\"/prix-carburants/lot-et-garonne.47/\">Lot-et-Garonne (47)</a></td><td style=\"vertical-align:middle;background-color:rgba(144,203,125,.6)\">1,835€</td><td style=\"vertical-align:middle;background-color:rgba(134,200,125,.6)\">1,884€</td><td style=\"vertical-align:middle;background-color:rgba(147,204,125,.6)\">1,861€</td><td style=\"vertical-align:middle;background-color:rgba(147,204,125,.6)\">1,815€</td><td style=\"vertical-align:middle;background-color:rgba(253,208,126,.6)\">0,991€</td><td style=\"vertical-align:middle;background-color:rgba(165,209,126,.6)\">1,018€</td></tr><tr><td><a class=\"d-block\" href=\"/prix-carburants/lozere.48/\">LozÃ¨re (48)</a></td><td style=\"vertical-align:middle;background-color:rgba(159,207,126,.6)\">1,844€</td><td style=\"vertical-align:middle;background-color:rgba(254,217,128,.6)\">1,958€</td><td style=\"vertical-align:middle;background-color:rgba(230,228,130,.6)\">1,929€</td><td style=\"vertical-align:middle;background-color:rgba(220,225,129,.6)\">1,859€</td><td style=\"vertical-align:middle;background-color:rgba(104,191,123,.6)\">0,868€</td><td style=\"vertical-align:middle;background-color:rgba(240,240,240,.6)\"></td></tr><tr><td><a class=\"d-block\" href=\"/prix-carburants/maine-et-loire.49/\">Maine-et-Loire (49)</a></td><td style=\"vertical-align:middle;background-color:rgba(124,197,124,.6)\">1,823€</td><td style=\"vertical-align:middle;background-color:rgba(163,208,126,.6)\">1,899€</td><td style=\"vertical-align:middle;background-color:rgba(132,199,124,.6)\">1,849€</td><td style=\"vertical-align:middle;background-color:rgba(149,204,125,.6)\">1,816€</td><td style=\"vertical-align:middle;background-color:rgba(153,205,126,.6)\">0,901€</td><td style=\"vertical-align:middle;background-color:rgba(120,196,124,.6)\">0,966€</td></tr><tr><td><a class=\"d-block\" href=\"/prix-carburants/manche.50/\">Manche (50)</a></td><td style=\"vertical-align:middle;background-color:rgba(143,202,125,.6)\">1,834€</td><td style=\"vertical-align:middle;background-color:rgba(177,212,127,.6)\">1,906€</td><td style=\"vertical-align:middle;background-color:rgba(141,202,125,.6)\">1,856€</td><td style=\"vertical-align:middle;background-color:rgba(165,209,126,.6)\">1,826€</td><td style=\"vertical-align:middle;background-color:rgba(149,204,125,.6)\">0,898€</td><td style=\"vertical-align:middle;background-color:rgba(146,203,125,.6)\">0,996€</td></tr><tr><td><a class=\"d-block\" href=\"/prix-carburants/marne.51/\">Marne (51)</a></td><td style=\"vertical-align:middle;background-color:rgba(153,205,126,.6)\">1,840€</td><td style=\"vertical-align:middle;background-color:rgba(194,217,128,.6)\">1,915€</td><td style=\"vertical-align:middle;background-color:rgba(152,205,126,.6)\">1,865€</td><td style=\"vertical-align:middle;background-color:rgba(177,213,127,.6)\">1,833€</td><td style=\"vertical-align:middle;background-color:rgba(164,209,126,.6)\">0,908€</td><td style=\"vertical-align:middle;background-color:rgba(180,213,127,.6)\">1,035€</td></tr><tr><td><a class=\"d-block\" href=\"/prix-carburants/haute-marne.52/\">Haute-Marne (52)</a></td><td style=\"vertical-align:middle;background-color:rgba(217,224,129,.6)\">1,879€</td><td style=\"vertical-align:middle;background-color:rgba(254,223,129,.6)\">1,954€</td><td style=\"vertical-align:middle;background-color:rgba(211,222,129,.6)\">1,913€</td><td style=\"vertical-align:middle;background-color:rgba(226,227,130,.6)\">1,863€</td><td style=\"vertical-align:middle;background-color:rgba(162,208,126,.6)\">0,907€</td><td style=\"vertical-align:middle;background-color:rgba(196,218,128,.6)\">1,053€</td></tr><tr><td><a class=\"d-block\" href=\"/prix-carburants/mayenne.53/\">Mayenne (53)</a></td><td style=\"vertical-align:middle;background-color:rgba(126,197,124,.6)\">1,824€</td><td style=\"vertical-align:middle;background-color:rgba(161,208,126,.6)\">1,898€</td><td style=\"vertical-align:middle;background-color:rgba(110,193,123,.6)\">1,831€</td><td style=\"vertical-align:middle;background-color:rgba(113,193,123,.6)\">1,794€</td><td style=\"vertical-align:middle;background-color:rgba(187,216,128,.6)\">0,924€</td><td style=\"vertical-align:middle;background-color:rgba(100,190,123,.6)\">0,942€</td></tr><tr><td><a class=\"d-block\" href=\"/prix-carburants/meurthe-et-moselle.54/\">Meurthe-et-Moselle (54)</a></td><td style=\"vertical-align:middle;background-color:rgba(159,207,126,.6)\">1,844€</td><td style=\"vertical-align:middle;background-color:rgba(207,221,129,.6)\">1,922€</td><td style=\"vertical-align:middle;background-color:rgba(180,213,127,.6)\">1,888€</td><td style=\"vertical-align:middle;background-color:rgba(185,215,127,.6)\">1,838€</td><td style=\"vertical-align:middle;background-color:rgba(156,206,126,.6)\">0,903€</td><td style=\"vertical-align:middle;background-color:rgba(137,201,125,.6)\">0,985€</td></tr><tr><td><a class=\"d-block\" href=\"/prix-carburants/meuse.55/\">Meuse (55)</a></td><td style=\"vertical-align:middle;background-color:rgba(174,212,127,.6)\">1,853€</td><td style=\"vertical-align:middle;background-color:rgba(194,217,128,.6)\">1,915€</td><td style=\"vertical-align:middle;background-color:rgba(198,219,128,.6)\">1,903€</td><td style=\"vertical-align:middle;background-color:rgba(189,216,128,.6)\">1,840€</td><td style=\"vertical-align:middle;background-color:rgba(143,202,125,.6)\">0,894€</td><td style=\"vertical-align:middle;background-color:rgba(121,196,124,.6)\">0,967€</td></tr><tr><td><a class=\"d-block\" href=\"/prix-carburants/morbihan.56/\">Morbihan (56)</a></td><td style=\"vertical-align:middle;background-color:rgba(114,194,123,.6)\">1,817€</td><td style=\"vertical-align:middle;background-color:rgba(130,199,124,.6)\">1,882€</td><td style=\"vertical-align:middle;background-color:rgba(115,194,123,.6)\">1,835€</td><td style=\"vertical-align:middle;background-color:rgba(131,199,124,.6)\">1,805€</td><td style=\"vertical-align:middle;background-color:rgba(152,205,126,.6)\">0,900€</td><td style=\"vertical-align:middle;background-color:rgba(169,210,127,.6)\">1,022€</td></tr><tr><td><a class=\"d-block\" href=\"/prix-carburants/moselle.57/\">Moselle (57)</a></td><td style=\"vertical-align:middle;background-color:rgba(158,207,126,.6)\">1,843€</td><td style=\"vertical-align:middle;background-color:rgba(196,218,128,.6)\">1,916€</td><td style=\"vertical-align:middle;background-color:rgba(150,204,125,.6)\">1,863€</td><td style=\"vertical-align:middle;background-color:rgba(175,212,127,.6)\">1,832€</td><td style=\"vertical-align:middle;background-color:rgba(164,209,126,.6)\">0,908€</td><td style=\"vertical-align:middle;background-color:rgba(138,201,125,.6)\">0,987€</td></tr><tr><td><a class=\"d-block\" href=\"/prix-carburants/nievre.58/\">NiÃ¨vre (58)</a></td><td style=\"vertical-align:middle;background-color:rgba(186,215,128,.6)\">1,860€</td><td style=\"vertical-align:middle;background-color:rgba(215,224,129,.6)\">1,926€</td><td style=\"vertical-align:middle;background-color:rgba(203,220,129,.6)\">1,907€</td><td style=\"vertical-align:middle;background-color:rgba(198,219,128,.6)\">1,846€</td><td style=\"vertical-align:middle;background-color:rgba(173,211,127,.6)\">0,914€</td><td style=\"vertical-align:middle;background-color:rgba(153,205,126,.6)\">1,004€</td></tr><tr><td><a class=\"d-block\" href=\"/prix-carburants/nord.59/\">Nord (59)</a></td><td style=\"vertical-align:middle;background-color:rgba(129,198,124,.6)\">1,826€</td><td style=\"vertical-align:middle;background-color:rgba(184,215,127,.6)\">1,910€</td><td style=\"vertical-align:middle;background-color:rgba(136,200,125,.6)\">1,852€</td><td style=\"vertical-align:middle;background-color:rgba(149,204,125,.6)\">1,816€</td><td style=\"vertical-align:middle;background-color:rgba(161,208,126,.6)\">0,906€</td><td style=\"vertical-align:middle;background-color:rgba(149,204,125,.6)\">0,999€</td></tr><tr><td><a class=\"d-block\" href=\"/prix-carburants/oise.60/\">Oise (60)</a></td><td style=\"vertical-align:middle;background-color:rgba(146,203,125,.6)\">1,836€</td><td style=\"vertical-align:middle;background-color:rgba(188,216,128,.6)\">1,912€</td><td style=\"vertical-align:middle;background-color:rgba(128,198,124,.6)\">1,845€</td><td style=\"vertical-align:middle;background-color:rgba(175,212,127,.6)\">1,832€</td><td style=\"vertical-align:middle;background-color:rgba(155,206,126,.6)\">0,902€</td><td style=\"vertical-align:middle;background-color:rgba(145,203,125,.6)\">0,994€</td></tr><tr><td><a class=\"d-block\" href=\"/prix-carburants/orne.61/\">Orne (61)</a></td><td style=\"vertical-align:middle;background-color:rgba(139,201,125,.6)\">1,832€</td><td style=\"vertical-align:middle;background-color:rgba(165,209,126,.6)\">1,900€</td><td style=\"vertical-align:middle;background-color:rgba(136,200,125,.6)\">1,852€</td><td style=\"vertical-align:middle;background-color:rgba(161,208,126,.6)\">1,823€</td><td style=\"vertical-align:middle;background-color:rgba(138,201,125,.6)\">0,891€</td><td style=\"vertical-align:middle;background-color:rgba(171,211,127,.6)\">1,024€</td></tr><tr><td><a class=\"d-block\" href=\"/prix-carburants/pas-de-calais.62/\">Pas-de-Calais (62)</a></td><td style=\"vertical-align:middle;background-color:rgba(139,201,125,.6)\">1,832€</td><td style=\"vertical-align:middle;background-color:rgba(203,220,129,.6)\">1,920€</td><td style=\"vertical-align:middle;background-color:rgba(132,199,124,.6)\">1,849€</td><td style=\"vertical-align:middle;background-color:rgba(162,208,126,.6)\">1,824€</td><td style=\"vertical-align:middle;background-color:rgba(155,206,126,.6)\">0,902€</td><td style=\"vertical-align:middle;background-color:rgba(140,202,125,.6)\">0,989€</td></tr><tr><td><a class=\"d-block\" href=\"/prix-carburants/puy-de-dome.63/\">Puy-de-DÃ´me (63)</a></td><td style=\"vertical-align:middle;background-color:rgba(166,209,126,.6)\">1,848€</td><td style=\"vertical-align:middle;background-color:rgba(244,232,131,.6)\">1,941€</td><td style=\"vertical-align:middle;background-color:rgba(185,215,127,.6)\">1,892€</td><td style=\"vertical-align:middle;background-color:rgba(208,222,129,.6)\">1,852€</td><td style=\"vertical-align:middle;background-color:rgba(250,234,131,.6)\">0,966€</td><td style=\"vertical-align:middle;background-color:rgba(155,206,126,.6)\">1,006€</td></tr><tr><td><a class=\"d-block\" href=\"/prix-carburants/pyrenees-atlantiques.64/\">PyrÃ©nÃ©es-Atlantiques (64)</a></td><td style=\"vertical-align:middle;background-color:rgba(159,207,126,.6)\">1,844€</td><td style=\"vertical-align:middle;background-color:rgba(205,221,129,.6)\">1,921€</td><td style=\"vertical-align:middle;background-color:rgba(148,204,125,.6)\">1,862€</td><td style=\"vertical-align:middle;background-color:rgba(193,217,128,.6)\">1,843€</td><td style=\"vertical-align:middle;background-color:rgba(211,223,129,.6)\">0,940€</td><td style=\"vertical-align:middle;background-color:rgba(142,202,125,.6)\">0,991€</td></tr><tr><td><a class=\"d-block\" href=\"/prix-carburants/hautes-pyrenees.65/\">Hautes-PyrÃ©nÃ©es (65)</a></td><td style=\"vertical-align:middle;background-color:rgba(189,216,128,.6)\">1,862€</td><td style=\"vertical-align:middle;background-color:rgba(236,230,130,.6)\">1,937€</td><td style=\"vertical-align:middle;background-color:rgba(219,225,129,.6)\">1,920€</td><td style=\"vertical-align:middle;background-color:rgba(212,223,129,.6)\">1,854€</td><td style=\"vertical-align:middle;background-color:rgba(181,214,127,.6)\">0,920€</td><td style=\"vertical-align:middle;background-color:rgba(185,215,127,.6)\">1,041€</td></tr><tr><td><a class=\"d-block\" href=\"/prix-carburants/pyrenees-orientales.66/\">PyrÃ©nÃ©es-Orientales (66)</a></td><td style=\"vertical-align:middle;background-color:rgba(106,191,123,.6)\">1,812€</td><td style=\"vertical-align:middle;background-color:rgba(202,220,128,.6)\">1,919€</td><td style=\"vertical-align:middle;background-color:rgba(158,207,126,.6)\">1,870€</td><td style=\"vertical-align:middle;background-color:rgba(179,213,127,.6)\">1,834€</td><td style=\"vertical-align:middle;background-color:rgba(123,197,124,.6)\">0,881€</td><td style=\"vertical-align:middle;background-color:rgba(142,202,125,.6)\">0,991€</td></tr><tr><td><a class=\"d-block\" href=\"/prix-carburants/bas-rhin.67/\">Bas-Rhin (67)</a></td><td style=\"vertical-align:middle;background-color:rgba(148,204,125,.6)\">1,837€</td><td style=\"vertical-align:middle;background-color:rgba(163,208,126,.6)\">1,899€</td><td style=\"vertical-align:middle;background-color:rgba(103,191,123,.6)\">1,825€</td><td style=\"vertical-align:middle;background-color:rgba(162,208,126,.6)\">1,824€</td><td style=\"vertical-align:middle;background-color:rgba(183,214,127,.6)\">0,921€</td><td style=\"vertical-align:middle;background-color:rgba(147,204,125,.6)\">0,997€</td></tr><tr><td><a class=\"d-block\" href=\"/prix-carburants/haut-rhin.68/\">Haut-Rhin (68)</a></td><td style=\"vertical-align:middle;background-color:rgba(144,203,125,.6)\">1,835€</td><td style=\"vertical-align:middle;background-color:rgba(177,212,127,.6)\">1,906€</td><td style=\"vertical-align:middle;background-color:rgba(120,196,124,.6)\">1,839€</td><td style=\"vertical-align:middle;background-color:rgba(146,203,125,.6)\">1,814€</td><td style=\"vertical-align:middle;background-color:rgba(167,209,126,.6)\">0,910€</td><td style=\"vertical-align:middle;background-color:rgba(137,201,125,.6)\">0,985€</td></tr><tr><td><a class=\"d-block\" href=\"/prix-carburants/rhone.69/\">RhÃ´ne (69)</a></td><td style=\"vertical-align:middle;background-color:rgba(172,211,127,.6)\">1,852€</td><td style=\"vertical-align:middle;background-color:rgba(254,231,131,.6)\">1,949€</td><td style=\"vertical-align:middle;background-color:rgba(189,216,128,.6)\">1,895€</td><td style=\"vertical-align:middle;background-color:rgba(228,228,130,.6)\">1,864€</td><td style=\"vertical-align:middle;background-color:rgba(201,220,128,.6)\">0,933€</td><td style=\"vertical-align:middle;background-color:rgba(129,198,124,.6)\">0,976€</td></tr><tr><td><a class=\"d-block\" href=\"/prix-carburants/haute-saone.70/\">Haute-SaÃ´ne (70)</a></td><td style=\"vertical-align:middle;background-color:rgba(144,203,125,.6)\">1,835€</td><td style=\"vertical-align:middle;background-color:rgba(207,221,129,.6)\">1,922€</td><td style=\"vertical-align:middle;background-color:rgba(148,204,125,.6)\">1,862€</td><td style=\"vertical-align:middle;background-color:rgba(167,210,126,.6)\">1,827€</td><td style=\"vertical-align:middle;background-color:rgba(122,196,124,.6)\">0,880€</td><td style=\"vertical-align:middle;background-color:rgba(115,194,123,.6)\">0,960€</td></tr><tr><td><a class=\"d-block\" href=\"/prix-carburants/saone-et-loire.71/\">SaÃ´ne-et-Loire (71)</a></td><td style=\"vertical-align:middle;background-color:rgba(169,210,127,.6)\">1,850€</td><td style=\"vertical-align:middle;background-color:rgba(225,227,130,.6)\">1,931€</td><td style=\"vertical-align:middle;background-color:rgba(181,214,127,.6)\">1,889€</td><td style=\"vertical-align:middle;background-color:rgba(205,221,129,.6)\">1,850€</td><td style=\"vertical-align:middle;background-color:rgba(192,217,128,.6)\">0,927€</td><td style=\"vertical-align:middle;background-color:rgba(153,205,126,.6)\">1,004€</td></tr><tr><td><a class=\"d-block\" href=\"/prix-carburants/sarthe.72/\">Sarthe (72)</a></td><td style=\"vertical-align:middle;background-color:rgba(159,207,126,.6)\">1,844€</td><td style=\"vertical-align:middle;background-color:rgba(200,219,128,.6)\">1,918€</td><td style=\"vertical-align:middle;background-color:rgba(113,193,123,.6)\">1,833€</td><td style=\"vertical-align:middle;background-color:rgba(187,215,128,.6)\">1,839€</td><td style=\"vertical-align:middle;background-color:rgba(184,215,127,.6)\">0,922€</td><td style=\"vertical-align:middle;background-color:rgba(177,212,127,.6)\">1,031€</td></tr><tr><td><a class=\"d-block\" href=\"/prix-carburants/savoie.73/\">Savoie (73)</a></td><td style=\"vertical-align:middle;background-color:rgba(196,218,128,.6)\">1,866€</td><td style=\"vertical-align:middle;background-color:rgba(252,184,122,.6)\">1,978€</td><td style=\"vertical-align:middle;background-color:rgba(181,214,127,.6)\">1,889€</td><td style=\"vertical-align:middle;background-color:rgba(254,231,131,.6)\">1,883€</td><td style=\"vertical-align:middle;background-color:rgba(178,213,127,.6)\">0,918€</td><td style=\"vertical-align:middle;background-color:rgba(215,224,129,.6)\">1,075€</td></tr><tr><td><a class=\"d-block\" href=\"/prix-carburants/haute-savoie.74/\">Haute-Savoie (74)</a></td><td style=\"vertical-align:middle;background-color:rgba(202,220,128,.6)\">1,870€</td><td style=\"vertical-align:middle;background-color:rgba(254,231,131,.6)\">1,949€</td><td style=\"vertical-align:middle;background-color:rgba(187,216,128,.6)\">1,894€</td><td style=\"vertical-align:middle;background-color:rgba(235,230,130,.6)\">1,868€</td><td style=\"vertical-align:middle;background-color:rgba(168,210,126,.6)\">0,911€</td><td style=\"vertical-align:middle;background-color:rgba(151,205,125,.6)\">1,001€</td></tr><tr><td><a class=\"d-block\" href=\"/prix-carburants/paris.75/\">Paris (75)</a></td><td style=\"vertical-align:middle;background-color:rgba(248,105,107,.6)\">1,995€</td><td style=\"vertical-align:middle;background-color:rgba(248,105,107,.6)\">2,027€</td><td style=\"vertical-align:middle;background-color:rgba(248,105,107,.6)\">2,076€</td><td style=\"vertical-align:middle;background-color:rgba(248,105,107,.6)\">1,974€</td><td style=\"vertical-align:middle;background-color:rgba(176,212,127,.6)\">0,916€</td><td style=\"vertical-align:middle;background-color:rgba(153,205,126,.6)\">1,004€</td></tr><tr><td><a class=\"d-block\" href=\"/prix-carburants/seine-maritime.76/\">Seine-Maritime (76)</a></td><td style=\"vertical-align:middle;background-color:rgba(136,200,125,.6)\">1,830€</td><td style=\"vertical-align:middle;background-color:rgba(167,209,126,.6)\">1,901€</td><td style=\"vertical-align:middle;background-color:rgba(128,198,124,.6)\">1,845€</td><td style=\"vertical-align:middle;background-color:rgba(159,207,126,.6)\">1,822€</td><td style=\"vertical-align:middle;background-color:rgba(144,203,125,.6)\">0,895€</td><td style=\"vertical-align:middle;background-color:rgba(154,206,126,.6)\">1,005€</td></tr><tr><td><a class=\"d-block\" href=\"/prix-carburants/seine-et-marne.77/\">Seine-et-Marne (77)</a></td><td style=\"vertical-align:middle;background-color:rgba(216,224,129,.6)\">1,878€</td><td style=\"vertical-align:middle;background-color:rgba(246,233,131,.6)\">1,942€</td><td style=\"vertical-align:middle;background-color:rgba(178,213,127,.6)\">1,886€</td><td style=\"vertical-align:middle;background-color:rgba(222,226,130,.6)\">1,860€</td><td style=\"vertical-align:middle;background-color:rgba(190,216,128,.6)\">0,926€</td><td style=\"vertical-align:middle;background-color:rgba(145,203,125,.6)\">0,994€</td></tr><tr><td><a class=\"d-block\" href=\"/prix-carburants/yvelines.78/\">Yvelines (78)</a></td><td style=\"vertical-align:middle;background-color:rgba(239,231,131,.6)\">1,892€</td><td style=\"vertical-align:middle;background-color:rgba(254,223,129,.6)\">1,954€</td><td style=\"vertical-align:middle;background-color:rgba(185,215,127,.6)\">1,892€</td><td style=\"vertical-align:middle;background-color:rgba(251,235,131,.6)\">1,878€</td><td style=\"vertical-align:middle;background-color:rgba(176,212,127,.6)\">0,916€</td><td style=\"vertical-align:middle;background-color:rgba(134,200,125,.6)\">0,982€</td></tr><tr><td><a class=\"d-block\" href=\"/prix-carburants/deux-sevres.79/\">Deux-SÃ¨vres (79)</a></td><td style=\"vertical-align:middle;background-color:rgba(121,196,124,.6)\">1,821€</td><td style=\"vertical-align:middle;background-color:rgba(121,196,124,.6)\">1,877€</td><td style=\"vertical-align:middle;background-color:rgba(135,200,125,.6)\">1,851€</td><td style=\"vertical-align:middle;background-color:rgba(132,199,124,.6)\">1,806€</td><td style=\"vertical-align:middle;background-color:rgba(120,196,124,.6)\">0,879€</td><td style=\"vertical-align:middle;background-color:rgba(187,215,128,.6)\">1,043€</td></tr><tr><td><a class=\"d-block\" href=\"/prix-carburants/somme.80/\">Somme (80)</a></td><td style=\"vertical-align:middle;background-color:rgba(153,205,126,.6)\">1,840€</td><td style=\"vertical-align:middle;background-color:rgba(194,217,128,.6)\">1,915€</td><td style=\"vertical-align:middle;background-color:rgba(143,203,125,.6)\">1,858€</td><td style=\"vertical-align:middle;background-color:rgba(182,214,127,.6)\">1,836€</td><td style=\"vertical-align:middle;background-color:rgba(100,190,123,.6)\">0,865€</td><td style=\"vertical-align:middle;background-color:rgba(235,230,130,.6)\">1,099€</td></tr><tr><td><a class=\"d-block\" href=\"/prix-carburants/tarn.81/\">Tarn (81)</a></td><td style=\"vertical-align:middle;background-color:rgba(141,202,125,.6)\">1,833€</td><td style=\"vertical-align:middle;background-color:rgba(192,217,128,.6)\">1,914€</td><td style=\"vertical-align:middle;background-color:rgba(168,210,126,.6)\">1,878€</td><td style=\"vertical-align:middle;background-color:rgba(177,213,127,.6)\">1,833€</td><td style=\"vertical-align:middle;background-color:rgba(254,234,131,.6)\">0,970€</td><td style=\"vertical-align:middle;background-color:rgba(164,209,126,.6)\">1,017€</td></tr><tr><td><a class=\"d-block\" href=\"/prix-carburants/tarn-et-garonne.82/\">Tarn-et-Garonne (82)</a></td><td style=\"vertical-align:middle;background-color:rgba(144,203,125,.6)\">1,835€</td><td style=\"vertical-align:middle;background-color:rgba(196,218,128,.6)\">1,916€</td><td style=\"vertical-align:middle;background-color:rgba(161,208,126,.6)\">1,872€</td><td style=\"vertical-align:middle;background-color:rgba(189,216,128,.6)\">1,840€</td><td style=\"vertical-align:middle;background-color:rgba(170,210,127,.6)\">0,912€</td><td style=\"vertical-align:middle;background-color:rgba(138,201,125,.6)\">0,986€</td></tr><tr><td><a class=\"d-block\" href=\"/prix-carburants/var.83/\">Var (83)</a></td><td style=\"vertical-align:middle;background-color:rgba(123,196,124,.6)\">1,822€</td><td style=\"vertical-align:middle;background-color:rgba(196,218,128,.6)\">1,916€</td><td style=\"vertical-align:middle;background-color:rgba(153,205,126,.6)\">1,866€</td><td style=\"vertical-align:middle;background-color:rgba(167,210,126,.6)\">1,827€</td><td style=\"vertical-align:middle;background-color:rgba(186,215,128,.6)\">0,923€</td><td style=\"vertical-align:middle;background-color:rgba(187,215,128,.6)\">1,043€</td></tr><tr><td><a class=\"d-block\" href=\"/prix-carburants/vaucluse.84/\">Vaucluse (84)</a></td><td style=\"vertical-align:middle;background-color:rgba(138,201,125,.6)\">1,831€</td><td style=\"vertical-align:middle;background-color:rgba(217,224,129,.6)\">1,927€</td><td style=\"vertical-align:middle;background-color:rgba(154,206,126,.6)\">1,867€</td><td style=\"vertical-align:middle;background-color:rgba(182,214,127,.6)\">1,836€</td><td style=\"vertical-align:middle;background-color:rgba(181,214,127,.6)\">0,920€</td><td style=\"vertical-align:middle;background-color:rgba(151,205,126,.6)\">1,002€</td></tr><tr><td><a class=\"d-block\" href=\"/prix-carburants/vendee.85/\">VendÃ©e (85)</a></td><td style=\"vertical-align:middle;background-color:rgba(106,191,123,.6)\">1,812€</td><td style=\"vertical-align:middle;background-color:rgba(100,190,123,.6)\">1,866€</td><td style=\"vertical-align:middle;background-color:rgba(108,192,123,.6)\">1,829€</td><td style=\"vertical-align:middle;background-color:rgba(100,190,123,.6)\">1,786€</td><td style=\"vertical-align:middle;background-color:rgba(123,197,124,.6)\">0,881€</td><td style=\"vertical-align:middle;background-color:rgba(182,214,127,.6)\">1,037€</td></tr><tr><td><a class=\"d-block\" href=\"/prix-carburants/vienne.86/\">Vienne (86)</a></td><td style=\"vertical-align:middle;background-color:rgba(151,205,125,.6)\">1,839€</td><td style=\"vertical-align:middle;background-color:rgba(182,214,127,.6)\">1,909€</td><td style=\"vertical-align:middle;background-color:rgba(159,207,126,.6)\">1,871€</td><td style=\"vertical-align:middle;background-color:rgba(174,212,127,.6)\">1,831€</td><td style=\"vertical-align:middle;background-color:rgba(248,105,107,.6)\">1,073€</td><td style=\"vertical-align:middle;background-color:rgba(132,199,124,.6)\">0,980€</td></tr><tr><td><a class=\"d-block\" href=\"/prix-carburants/haute-vienne.87/\">Haute-Vienne (87)</a></td><td style=\"vertical-align:middle;background-color:rgba(159,207,126,.6)\">1,844€</td><td style=\"vertical-align:middle;background-color:rgba(196,218,128,.6)\">1,916€</td><td style=\"vertical-align:middle;background-color:rgba(151,205,125,.6)\">1,864€</td><td style=\"vertical-align:middle;background-color:rgba(185,215,127,.6)\">1,838€</td><td style=\"vertical-align:middle;background-color:rgba(150,205,125,.6)\">0,899€</td><td style=\"vertical-align:middle;background-color:rgba(183,214,127,.6)\">1,038€</td></tr><tr><td><a class=\"d-block\" href=\"/prix-carburants/vosges.88/\">Vosges (88)</a></td><td style=\"vertical-align:middle;background-color:rgba(162,208,126,.6)\">1,846€</td><td style=\"vertical-align:middle;background-color:rgba(194,217,128,.6)\">1,915€</td><td style=\"vertical-align:middle;background-color:rgba(153,205,126,.6)\">1,866€</td><td style=\"vertical-align:middle;background-color:rgba(190,216,128,.6)\">1,841€</td><td style=\"vertical-align:middle;background-color:rgba(143,202,125,.6)\">0,894€</td><td style=\"vertical-align:middle;background-color:rgba(134,200,125,.6)\">0,982€</td></tr><tr><td><a class=\"d-block\" href=\"/prix-carburants/yonne.89/\">Yonne (89)</a></td><td style=\"vertical-align:middle;background-color:rgba(206,221,129,.6)\">1,872€</td><td style=\"vertical-align:middle;background-color:rgba(253,204,125,.6)\">1,966€</td><td style=\"vertical-align:middle;background-color:rgba(222,226,130,.6)\">1,922€</td><td style=\"vertical-align:middle;background-color:rgba(254,234,131,.6)\">1,881€</td><td style=\"vertical-align:middle;background-color:rgba(228,228,130,.6)\">0,951€</td><td style=\"vertical-align:middle;background-color:rgba(173,211,127,.6)\">1,027€</td></tr><tr><td><a class=\"d-block\" href=\"/prix-carburants/territoire-de-belfort.90/\">Territoire de Belfort (90)</a></td><td style=\"vertical-align:middle;background-color:rgba(153,205,126,.6)\">1,840€</td><td style=\"vertical-align:middle;background-color:rgba(188,216,128,.6)\">1,912€</td><td style=\"vertical-align:middle;background-color:rgba(141,202,125,.6)\">1,856€</td><td style=\"vertical-align:middle;background-color:rgba(128,198,124,.6)\">1,803€</td><td style=\"vertical-align:middle;background-color:rgba(190,216,128,.6)\">0,926€</td><td style=\"vertical-align:middle;background-color:rgba(120,196,124,.6)\">0,966€</td></tr><tr><td><a class=\"d-block\" href=\"/prix-carburants/essonne.91/\">Essonne (91)</a></td><td style=\"vertical-align:middle;background-color:rgba(219,225,129,.6)\">1,880€</td><td style=\"vertical-align:middle;background-color:rgba(254,227,130,.6)\">1,952€</td><td style=\"vertical-align:middle;background-color:rgba(168,210,126,.6)\">1,878€</td><td style=\"vertical-align:middle;background-color:rgba(235,230,130,.6)\">1,868€</td><td style=\"vertical-align:middle;background-color:rgba(164,209,126,.6)\">0,908€</td><td style=\"vertical-align:middle;background-color:rgba(129,198,124,.6)\">0,976€</td></tr><tr><td><a class=\"d-block\" href=\"/prix-carburants/hauts-de-seine.92/\">Hauts-de-Seine (92)</a></td><td style=\"vertical-align:middle;background-color:rgba(251,172,119,.6)\">1,947€</td><td style=\"vertical-align:middle;background-color:rgba(248,118,109,.6)\">2,019€</td><td style=\"vertical-align:middle;background-color:rgba(186,215,128,.6)\">1,893€</td><td style=\"vertical-align:middle;background-color:rgba(251,163,118,.6)\">1,932€</td><td style=\"vertical-align:middle;background-color:rgba(180,213,127,.6)\">0,919€</td><td style=\"vertical-align:middle;background-color:rgba(219,225,129,.6)\">1,080€</td></tr><tr><td><a class=\"d-block\" href=\"/prix-carburants/seine-saint-denis.93/\">Seine-Saint-Denis (93)</a></td><td style=\"vertical-align:middle;background-color:rgba(253,205,126,.6)\">1,923€</td><td style=\"vertical-align:middle;background-color:rgba(251,171,119,.6)\">1,986€</td><td style=\"vertical-align:middle;background-color:rgba(180,213,127,.6)\">1,888€</td><td style=\"vertical-align:middle;background-color:rgba(253,212,127,.6)\">1,897€</td><td style=\"vertical-align:middle;background-color:rgba(181,214,127,.6)\">0,920€</td><td style=\"vertical-align:middle;background-color:rgba(139,201,125,.6)\">0,988€</td></tr><tr><td><a class=\"d-block\" href=\"/prix-carburants/val-de-marne.94/\">Val-de-Marne (94)</a></td><td style=\"vertical-align:middle;background-color:rgba(254,224,129,.6)\">1,910€</td><td style=\"vertical-align:middle;background-color:rgba(252,196,124,.6)\">1,971€</td><td style=\"vertical-align:middle;background-color:rgba(158,207,126,.6)\">1,870€</td><td style=\"vertical-align:middle;background-color:rgba(254,227,130,.6)\">1,886€</td><td style=\"vertical-align:middle;background-color:rgba(208,222,129,.6)\">0,938€</td><td style=\"vertical-align:middle;background-color:rgba(146,203,125,.6)\">0,996€</td></tr><tr><td><a class=\"d-block\" href=\"/prix-carburants/val-d-oise.95/\">Val-d'Oise (95)</a></td><td style=\"vertical-align:middle;background-color:rgba(232,229,130,.6)\">1,888€</td><td style=\"vertical-align:middle;background-color:rgba(254,217,128,.6)\">1,958€</td><td style=\"vertical-align:middle;background-color:rgba(172,211,127,.6)\">1,881€</td><td style=\"vertical-align:middle;background-color:rgba(240,231,131,.6)\">1,871€</td><td style=\"vertical-align:middle;background-color:rgba(158,207,126,.6)\">0,904€</td><td style=\"vertical-align:middle;background-color:rgba(160,207,126,.6)\">1,012€</td></tr></tbody></table>"
      ]
     },
     "execution_count": 40,
     "metadata": {},
     "output_type": "execute_result"
    }
   ],
   "source": [
    "tableau = page.find('table', {'class': 'table table-hover tablesorter'})\n",
    "tableau"
   ]
  },
  {
   "cell_type": "markdown",
   "metadata": {},
   "source": [
    "## Extraction du contenu de la table:"
   ]
  },
  {
   "cell_type": "code",
   "execution_count": 41,
   "metadata": {},
   "outputs": [],
   "source": [
    "lignes = tableau.find_all('tr')\n",
    "dictionnaire_carburant = {}\n",
    "for s in lignes[0].find_all('th'):\n",
    "    dictionnaire_carburant[s.get_text(strip=True)]=[]\n",
    "cles = list(dictionnaire_carburant.keys())\n",
    "nombre_de_colonne =len(cles)\n",
    "\n",
    "for l in lignes[1:] :\n",
    "    colonnes =  l.find_all('td')\n",
    "    nb_col = len(colonnes) \n",
    "    for s in range(len(cles)) :\n",
    "        dictionnaire_carburant[cles[s]].append(colonnes[s].get_text(strip=True))\n",
    "\n",
    "\n",
    "carburant_df = pd.DataFrame(dictionnaire_carburant)\n"
   ]
  },
  {
   "cell_type": "code",
   "execution_count": 42,
   "metadata": {},
   "outputs": [
    {
     "data": {
      "text/html": [
       "<div>\n",
       "<style scoped>\n",
       "    .dataframe tbody tr th:only-of-type {\n",
       "        vertical-align: middle;\n",
       "    }\n",
       "\n",
       "    .dataframe tbody tr th {\n",
       "        vertical-align: top;\n",
       "    }\n",
       "\n",
       "    .dataframe thead th {\n",
       "        text-align: right;\n",
       "    }\n",
       "</style>\n",
       "<table border=\"1\" class=\"dataframe\">\n",
       "  <thead>\n",
       "    <tr style=\"text-align: right;\">\n",
       "      <th></th>\n",
       "      <th>DÃ©partement</th>\n",
       "      <th>Gasoil</th>\n",
       "      <th>SP98</th>\n",
       "      <th>SP95</th>\n",
       "      <th>E10</th>\n",
       "      <th>E85</th>\n",
       "      <th>GPL</th>\n",
       "    </tr>\n",
       "  </thead>\n",
       "  <tbody>\n",
       "    <tr>\n",
       "      <th>0</th>\n",
       "      <td>Ain (01)</td>\n",
       "      <td>1,851€</td>\n",
       "      <td>1,952€</td>\n",
       "      <td>1,890€</td>\n",
       "      <td>1,859€</td>\n",
       "      <td>0,894€</td>\n",
       "      <td>1,036€</td>\n",
       "    </tr>\n",
       "    <tr>\n",
       "      <th>1</th>\n",
       "      <td>Aisne (02)</td>\n",
       "      <td>1,830€</td>\n",
       "      <td>1,916€</td>\n",
       "      <td>1,852€</td>\n",
       "      <td>1,826€</td>\n",
       "      <td>0,906€</td>\n",
       "      <td>1,027€</td>\n",
       "    </tr>\n",
       "    <tr>\n",
       "      <th>2</th>\n",
       "      <td>Allier (03)</td>\n",
       "      <td>1,855€</td>\n",
       "      <td>1,932€</td>\n",
       "      <td>1,873€</td>\n",
       "      <td>1,860€</td>\n",
       "      <td>0,941€</td>\n",
       "      <td>0,996€</td>\n",
       "    </tr>\n",
       "    <tr>\n",
       "      <th>3</th>\n",
       "      <td>Alpes-de-Haute-Provence (04)</td>\n",
       "      <td>1,852€</td>\n",
       "      <td>1,927€</td>\n",
       "      <td>1,903€</td>\n",
       "      <td>1,852€</td>\n",
       "      <td>0,929€</td>\n",
       "      <td>0,972€</td>\n",
       "    </tr>\n",
       "    <tr>\n",
       "      <th>4</th>\n",
       "      <td>Hautes-Alpes (05)</td>\n",
       "      <td>1,827€</td>\n",
       "      <td>1,922€</td>\n",
       "      <td>1,895€</td>\n",
       "      <td>1,823€</td>\n",
       "      <td>0,911€</td>\n",
       "      <td>1,034€</td>\n",
       "    </tr>\n",
       "    <tr>\n",
       "      <th>...</th>\n",
       "      <td>...</td>\n",
       "      <td>...</td>\n",
       "      <td>...</td>\n",
       "      <td>...</td>\n",
       "      <td>...</td>\n",
       "      <td>...</td>\n",
       "      <td>...</td>\n",
       "    </tr>\n",
       "    <tr>\n",
       "      <th>90</th>\n",
       "      <td>Essonne (91)</td>\n",
       "      <td>1,880€</td>\n",
       "      <td>1,952€</td>\n",
       "      <td>1,878€</td>\n",
       "      <td>1,868€</td>\n",
       "      <td>0,908€</td>\n",
       "      <td>0,976€</td>\n",
       "    </tr>\n",
       "    <tr>\n",
       "      <th>91</th>\n",
       "      <td>Hauts-de-Seine (92)</td>\n",
       "      <td>1,947€</td>\n",
       "      <td>2,019€</td>\n",
       "      <td>1,893€</td>\n",
       "      <td>1,932€</td>\n",
       "      <td>0,919€</td>\n",
       "      <td>1,080€</td>\n",
       "    </tr>\n",
       "    <tr>\n",
       "      <th>92</th>\n",
       "      <td>Seine-Saint-Denis (93)</td>\n",
       "      <td>1,923€</td>\n",
       "      <td>1,986€</td>\n",
       "      <td>1,888€</td>\n",
       "      <td>1,897€</td>\n",
       "      <td>0,920€</td>\n",
       "      <td>0,988€</td>\n",
       "    </tr>\n",
       "    <tr>\n",
       "      <th>93</th>\n",
       "      <td>Val-de-Marne (94)</td>\n",
       "      <td>1,910€</td>\n",
       "      <td>1,971€</td>\n",
       "      <td>1,870€</td>\n",
       "      <td>1,886€</td>\n",
       "      <td>0,938€</td>\n",
       "      <td>0,996€</td>\n",
       "    </tr>\n",
       "    <tr>\n",
       "      <th>94</th>\n",
       "      <td>Val-d'Oise (95)</td>\n",
       "      <td>1,888€</td>\n",
       "      <td>1,958€</td>\n",
       "      <td>1,881€</td>\n",
       "      <td>1,871€</td>\n",
       "      <td>0,904€</td>\n",
       "      <td>1,012€</td>\n",
       "    </tr>\n",
       "  </tbody>\n",
       "</table>\n",
       "<p>95 rows × 7 columns</p>\n",
       "</div>"
      ],
      "text/plain": [
       "                    DÃ©partement  Gasoil    SP98    SP95     E10     E85  \\\n",
       "0                       Ain (01)  1,851€  1,952€  1,890€  1,859€  0,894€   \n",
       "1                     Aisne (02)  1,830€  1,916€  1,852€  1,826€  0,906€   \n",
       "2                    Allier (03)  1,855€  1,932€  1,873€  1,860€  0,941€   \n",
       "3   Alpes-de-Haute-Provence (04)  1,852€  1,927€  1,903€  1,852€  0,929€   \n",
       "4              Hautes-Alpes (05)  1,827€  1,922€  1,895€  1,823€  0,911€   \n",
       "..                           ...     ...     ...     ...     ...     ...   \n",
       "90                  Essonne (91)  1,880€  1,952€  1,878€  1,868€  0,908€   \n",
       "91           Hauts-de-Seine (92)  1,947€  2,019€  1,893€  1,932€  0,919€   \n",
       "92        Seine-Saint-Denis (93)  1,923€  1,986€  1,888€  1,897€  0,920€   \n",
       "93             Val-de-Marne (94)  1,910€  1,971€  1,870€  1,886€  0,938€   \n",
       "94               Val-d'Oise (95)  1,888€  1,958€  1,881€  1,871€  0,904€   \n",
       "\n",
       "       GPL  \n",
       "0   1,036€  \n",
       "1   1,027€  \n",
       "2   0,996€  \n",
       "3   0,972€  \n",
       "4   1,034€  \n",
       "..     ...  \n",
       "90  0,976€  \n",
       "91  1,080€  \n",
       "92  0,988€  \n",
       "93  0,996€  \n",
       "94  1,012€  \n",
       "\n",
       "[95 rows x 7 columns]"
      ]
     },
     "execution_count": 42,
     "metadata": {},
     "output_type": "execute_result"
    }
   ],
   "source": [
    "carburant_df"
   ]
  },
  {
   "cell_type": "markdown",
   "metadata": {},
   "source": [
    "## Sauvegrade de nos données dans un fichier : "
   ]
  },
  {
   "cell_type": "code",
   "execution_count": 35,
   "metadata": {},
   "outputs": [],
   "source": [
    "carburant_df.to_csv('datasets/carburant.csv')\n"
   ]
  }
 ],
 "metadata": {
  "kernelspec": {
   "display_name": "Python 3",
   "language": "python",
   "name": "python3"
  },
  "language_info": {
   "codemirror_mode": {
    "name": "ipython",
    "version": 3
   },
   "file_extension": ".py",
   "mimetype": "text/x-python",
   "name": "python",
   "nbconvert_exporter": "python",
   "pygments_lexer": "ipython3",
   "version": "3.8.10"
  }
 },
 "nbformat": 4,
 "nbformat_minor": 2
}
