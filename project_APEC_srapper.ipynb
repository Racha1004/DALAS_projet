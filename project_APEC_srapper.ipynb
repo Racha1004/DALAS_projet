{
 "cells": [
  {
   "cell_type": "markdown",
   "metadata": {},
   "source": [
    "### Scrapping des données :"
   ]
  },
  {
   "cell_type": "code",
   "execution_count": 2,
   "metadata": {},
   "outputs": [],
   "source": [
    "import bs4\n",
    "import lxml\n",
    "import pandas\n",
    "import urllib\n",
    "\n",
    "from urllib import request"
   ]
  },
  {
   "cell_type": "code",
   "execution_count": 3,
   "metadata": {},
   "outputs": [],
   "source": [
    "from selenium import webdriver\n",
    "browser = webdriver.Firefox()\n",
    "browser.get('https://www.apec.fr/candidat/recherche-emploi.html/emploi?motsCles=data&typesConvention=143684&typesConvention=143685&typesConvention=143686&typesConvention=143687&page=0')"
   ]
  },
  {
   "cell_type": "code",
   "execution_count": 4,
   "metadata": {},
   "outputs": [],
   "source": [
    "from selenium.webdriver.support import expected_conditions as EC\n",
    "from selenium.webdriver.common.by import By\n",
    "from selenium.webdriver.support.ui import WebDriverWait"
   ]
  },
  {
   "cell_type": "markdown",
   "metadata": {},
   "source": [
    "## Tests :"
   ]
  },
  {
   "cell_type": "code",
   "execution_count": 5,
   "metadata": {},
   "outputs": [
    {
     "name": "stdout",
     "output_type": "stream",
     "text": [
      "https://www.apec.fr/candidat/recherche-emploi.html/emploi/detail-offre/172982802W?motsCles=data&typesConvention=143684&typesConvention=143685&typesConvention=143686&typesConvention=143687&page=0&selectedIndex=0\n",
      "https://www.apec.fr/candidat/recherche-emploi.html/emploi/detail-offre/172631521W?motsCles=data&typesConvention=143684&typesConvention=143685&typesConvention=143686&typesConvention=143687&page=0&selectedIndex=1\n",
      "https://www.apec.fr/candidat/recherche-emploi.html/emploi/detail-offre/172934112W?motsCles=data&typesConvention=143684&typesConvention=143685&typesConvention=143686&typesConvention=143687&page=0&selectedIndex=2\n",
      "https://www.apec.fr/candidat/recherche-emploi.html/emploi/detail-offre/172922452W?motsCles=data&typesConvention=143684&typesConvention=143685&typesConvention=143686&typesConvention=143687&page=0&selectedIndex=3\n",
      "https://www.apec.fr/candidat/recherche-emploi.html/emploi/detail-offre/172920679W?motsCles=data&typesConvention=143684&typesConvention=143685&typesConvention=143686&typesConvention=143687&page=0&selectedIndex=4\n",
      "https://www.apec.fr/candidat/recherche-emploi.html/emploi/detail-offre/172600330W?motsCles=data&typesConvention=143684&typesConvention=143685&typesConvention=143686&typesConvention=143687&page=0&selectedIndex=5\n",
      "https://www.apec.fr/candidat/recherche-emploi.html/emploi/detail-offre/172961031W?motsCles=data&typesConvention=143684&typesConvention=143685&typesConvention=143686&typesConvention=143687&page=0&selectedIndex=6\n",
      "https://www.apec.fr/candidat/recherche-emploi.html/emploi/detail-offre/172798819W?motsCles=data&typesConvention=143684&typesConvention=143685&typesConvention=143686&typesConvention=143687&page=0&selectedIndex=7\n",
      "https://www.apec.fr/candidat/recherche-emploi.html/emploi/detail-offre/172868605W?motsCles=data&typesConvention=143684&typesConvention=143685&typesConvention=143686&typesConvention=143687&page=0&selectedIndex=8\n",
      "https://www.apec.fr/candidat/recherche-emploi.html/emploi/detail-offre/172823799W?motsCles=data&typesConvention=143684&typesConvention=143685&typesConvention=143686&typesConvention=143687&page=0&selectedIndex=9\n",
      "https://www.apec.fr/candidat/recherche-emploi.html/emploi/detail-offre/172980179W?motsCles=data&typesConvention=143684&typesConvention=143685&typesConvention=143686&typesConvention=143687&page=0&selectedIndex=10\n",
      "https://www.apec.fr/candidat/recherche-emploi.html/emploi/detail-offre/172504990W?motsCles=data&typesConvention=143684&typesConvention=143685&typesConvention=143686&typesConvention=143687&page=0&selectedIndex=11\n",
      "https://www.apec.fr/candidat/recherche-emploi.html/emploi/detail-offre/172802553W?motsCles=data&typesConvention=143684&typesConvention=143685&typesConvention=143686&typesConvention=143687&page=0&selectedIndex=12\n",
      "https://www.apec.fr/candidat/recherche-emploi.html/emploi/detail-offre/172953823W?motsCles=data&typesConvention=143684&typesConvention=143685&typesConvention=143686&typesConvention=143687&page=0&selectedIndex=13\n",
      "https://www.apec.fr/candidat/recherche-emploi.html/emploi/detail-offre/172902277W?motsCles=data&typesConvention=143684&typesConvention=143685&typesConvention=143686&typesConvention=143687&page=0&selectedIndex=14\n",
      "https://www.apec.fr/candidat/recherche-emploi.html/emploi/detail-offre/172810364W?motsCles=data&typesConvention=143684&typesConvention=143685&typesConvention=143686&typesConvention=143687&page=0&selectedIndex=15\n",
      "https://www.apec.fr/candidat/recherche-emploi.html/emploi/detail-offre/172866689W?motsCles=data&typesConvention=143684&typesConvention=143685&typesConvention=143686&typesConvention=143687&page=0&selectedIndex=16\n",
      "https://www.apec.fr/candidat/recherche-emploi.html/emploi/detail-offre/172910433W?motsCles=data&typesConvention=143684&typesConvention=143685&typesConvention=143686&typesConvention=143687&page=0&selectedIndex=17\n",
      "https://www.apec.fr/candidat/recherche-emploi.html/emploi/detail-offre/172923919W?motsCles=data&typesConvention=143684&typesConvention=143685&typesConvention=143686&typesConvention=143687&page=0&selectedIndex=18\n"
     ]
    }
   ],
   "source": [
    "conteneur_des_resultats = browser.find_element(By.CLASS_NAME,\"container-result\")# recuprer la div qui contient l'ensemble d'annonces\n",
    "resultats = conteneur_des_resultats.find_elements(By.XPATH,\"./div/a\") # Recuperer les liens vers le descriptif de chaque annonce\n",
    "resultats.pop()\n",
    "for element in resultats:\n",
    "    print(element.get_attribute('href'))\n",
    "\n",
    "# #CE code avec soup n'est pas correcte mais il existe un code equivalent dans lequel on recupere toutes les div (fils directe) et pout chaque dic on recuper elemnt a et son attribut href\n",
    "# soup = bs4.BeautifulSoup(browser.page_source,'lxml')\n",
    "\n",
    "# # Trouver la div qui contient l'ensemble des annonces\n",
    "# conteneur_des_resultats = soup.find('div', class_='container-result')\n",
    "# print(conteneur_des_resultats)\n",
    "# # Si la div est trouvée, récupérer les liens des annonces\n",
    "# if conteneur_des_resultats:\n",
    "#     resultats = conteneur_des_resultats.find_all('div/a')[:-1]  # Récupérer tous les liens sauf le dernier\n",
    "\n",
    "#     # Afficher les liens\n",
    "#     for element in resultats:\n",
    "#         lien = element.get('href')\n",
    "#         if lien:\n",
    "#             print(lien)\n",
    "# print(len(resultats))"
   ]
  },
  {
   "cell_type": "markdown",
   "metadata": {},
   "source": [
    "## Changement de page :\n",
    "dans cette partie on doit sauvegarder a chaque fois la page precedente afin de pouvoir y retourner ou peut etre pas ! a savoir: Les etapes a suivre sont donc les suivantes : \n",
    "-   Dans un premier lieu on genere la premiere url en  specifiant le mot cle souhaité qu'on va passer au main (ou pour cette etape on peut directemnt prendre la premiere url en dure comme etant directeemnt la la page de recherche resultatnte dans apec a la saisie de data dans la recherche)\n",
    "-   Ensuite on recupere le nombre de page de resultats\n",
    "-   Ensuite à get_url on va parcour toutes ces pages de resultas\n",
    "-   POur chaque page on recupère la div ayant le nom de class 'container-result' qui contient la liste des dic de chaque annonce\n",
    "-   On récupere pour chaque annonce le lien de sa description détaillée \n",
    "-   On se met sur la page de description on scrappe nos donnnees\n",
    "-   On parcourt de cette mannière toutes les pages ainsi que toutes les offres \n",
    "-   ET voilouuuu"
   ]
  },
  {
   "cell_type": "code",
   "execution_count": 6,
   "metadata": {},
   "outputs": [],
   "source": [
    "#----------NE PAS REGARDER ÇA POUR LE MOMENT LOL---------#\n",
    "# premiere_page_url = browser.current_url\n",
    "# # Revenir à la première page en utilisant l'historique du navigateur\n",
    "# browser.get(premiere_page_url)\n"
   ]
  },
  {
   "cell_type": "markdown",
   "metadata": {},
   "source": [
    "## Changement de page (TODO APRES)"
   ]
  },
  {
   "cell_type": "markdown",
   "metadata": {},
   "source": [
    "### Ce bout de code est a utilsier pour passer a la page de description de chaque annonce :"
   ]
  },
  {
   "cell_type": "code",
   "execution_count": 7,
   "metadata": {},
   "outputs": [],
   "source": [
    "# browser.execute_script('arguments[0].target=\"_self\"; arguments[0].click();', \"https://www.apec.fr/candidat/recherche-emploi.html/emploi/detail-offre/172982802W?motsCles=data&typesConvention=143684&typesConvention=143685&typesConvention=143686&typesConvention=143687&page=0&selectedIndex=0\")\n",
    "script = 'window.location.href = \"'+resultats[0].get_attribute('href')+'\";'\n",
    "browser.execute_script(script)"
   ]
  },
  {
   "cell_type": "code",
   "execution_count": 8,
   "metadata": {},
   "outputs": [],
   "source": [
    "# script2 = 'window.location.href = \"https://www.apec.fr/candidat/recherche-emploi.html/emploi/detail-offre/172920679W?motsCles=data&typesConvention=143684&typesConvention=143685&typesConvention=143686&typesConvention=143687&page=0&selectedIndex=5\";'\n",
    "# browser.execute_script(script2)"
   ]
  },
  {
   "cell_type": "code",
   "execution_count": 9,
   "metadata": {},
   "outputs": [],
   "source": [
    "def get_url(position, location):\n",
    "        template = 'https://www.indeed.com/jobs?q={}&l={}'\n",
    "        url = template.format(position, location)\n",
    "        return url"
   ]
  },
  {
   "cell_type": "markdown",
   "metadata": {},
   "source": [
    "## Tache 1 : scraper la page détaillée de l'annonce :\n",
    "POur le moment ici comme on ne parcourt pas encore les page il faut decomenter les 2 derniere ligne afin de charger(la premiere annonce par exemple) dans le browser\n"
   ]
  },
  {
   "cell_type": "code",
   "execution_count": 10,
   "metadata": {},
   "outputs": [],
   "source": [
    "# Ne pas executer plusieurs ici on passe sur la page detaillée de la première annonce \n",
    "# d'où le zérro ! Donc dans browser on a le contenu de la nouvelle page !\n",
    "# script = 'window.location.href = \"'+resultats[0].get_attribute('href')+'\";'\n",
    "# browser.execute_script(script)"
   ]
  },
  {
   "cell_type": "markdown",
   "metadata": {},
   "source": [
    "#### Récupèration des informations du réctangle en haut de la page :\n",
    "    -   Ici je récupère le nom de l'entreprise, type du contrat proposé, departement , date de publication, date d'actualisation "
   ]
  },
  {
   "cell_type": "code",
   "execution_count": 22,
   "metadata": {},
   "outputs": [
    {
     "data": {
      "text/plain": [
       "{'entreprise': [],\n",
       " 'type_contrat': [],\n",
       " 'deparetement': [],\n",
       " 'date_publication': [],\n",
       " 'date_mise_a_jour': [],\n",
       " 'salaire': [],\n",
       " 'prise_de_poste': [],\n",
       " 'experience': [],\n",
       " 'metier': [],\n",
       " 'statut_du_poste': [],\n",
       " 'zone_de_deplacement': [],\n",
       " 'secteur_d_activite': [],\n",
       " 'Teletravail': [],\n",
       " 'descriptif_poste': [],\n",
       " 'profil_recherche': [],\n",
       " 'langues': [],\n",
       " 'savoir_etre': [],\n",
       " 'savoir_faire': [],\n",
       " 'descriptif_entreprise': []}"
      ]
     },
     "execution_count": 22,
     "metadata": {},
     "output_type": "execute_result"
    }
   ],
   "source": [
    "informations_cles = ['entreprise','type_contrat','deparetement','date_publication','date_mise_a_jour','salaire','prise_de_poste','experience','metier','statut_du_poste','zone_de_deplacement','secteur_d_activite','Teletravail','descriptif_poste','profil_recherche','langues','savoir_etre','savoir_faire','descriptif_entreprise']\n",
    "\n",
    "# Initialiser un dictionnaire avec des clés et des valeurs initiales à une liste vide\n",
    "dictionnaire_annonces ={}\n",
    "for cle in informations_cles:\n",
    "    dictionnaire_annonces[cle]=[]\n",
    "dictionnaire_annonces"
   ]
  },
  {
   "cell_type": "code",
   "execution_count": 23,
   "metadata": {},
   "outputs": [],
   "source": [
    "# entreprise , type_contrat , departement\n",
    "entete_annonce = browser.find_element(By.CLASS_NAME,\"card-offer__text\")# recuprer la div du petit réctangle\n",
    "informations = entete_annonce.find_elements(By.XPATH,\"./ul/li\") # Recuperer les liens vers le descriptif de chaque annonce\n",
    "for i,info in enumerate(informations):\n",
    "    cle = informations_cles[i]\n",
    "    mot = info.text.strip()\n",
    "    dictionnaire_annonces[cle].append(mot)\n",
    "\n",
    "\n",
    "\n",
    "# 'date_publication','date_mise_a_jour'\n",
    "date_publication = entete_annonce.find_elements(By.CLASS_NAME,\"date-offre\")[0].text\n",
    "date_mise_a_jour = entete_annonce.find_elements(By.CLASS_NAME,\"date-offre\")[1].text\n",
    "dictionnaire_annonces['date_publication'].append(date_publication)\n",
    "dictionnaire_annonces['date_mise_a_jour'].append(date_mise_a_jour)\n",
    "\n",
    "\n",
    "# 'salaire','prise_de_poste','experience','metier','statut_du_poste','zone_de_deplacement','secteur_d_activite','Teletravail'\n",
    "apec_poste_imformations = browser.find_element(By.TAG_NAME,\"apec-poste-informations\")# recuprer la div du petit réctangle\n",
    "liste_informations = apec_poste_imformations.find_elements(By.XPATH,\"//div[contains(@class, 'details-post')]\")\n",
    "salaire = None\n",
    "prise_de_poste= None\n",
    "experience = None\n",
    "metier = None\n",
    "statut_du_poste = None\n",
    "zone_de_deplacement = None\n",
    "secteur_d_activite = None\n",
    "Teletravail = None\n",
    "for information in liste_informations:\n",
    "    reponse = information.find_elements(By.XPATH, \"./h4[text()='Salaire']/following-sibling::span\")\n",
    "    if reponse :\n",
    "        salaire = reponse[0].text\n",
    "        \n",
    "    reponse = information.find_elements(By.XPATH, \"./h4[text()='Prise de poste']/following-sibling::span\")\n",
    "    if reponse :\n",
    "        prise_de_poste = reponse[0].text\n",
    "        \n",
    "    reponse = information.find_elements(By.XPATH, \"./h4[text()='Expérience']/following-sibling::span\")\n",
    "    if reponse :\n",
    "        experience = reponse[0].text\n",
    "        \n",
    "    reponse = information.find_elements(By.XPATH, \"./h4[text()='Métier']/following-sibling::span\")\n",
    "    if reponse :\n",
    "        metier = reponse[0].text\n",
    "\n",
    "    reponse = information.find_elements(By.XPATH, \"./h4[text()='Statut du poste']/following-sibling::span\")\n",
    "    if reponse :\n",
    "        statut_du_poste = reponse[0].text\n",
    "        \n",
    "    reponse = information.find_elements(By.XPATH, \"./h4[text()='Zone de déplacement']/following-sibling::span\")\n",
    "    if reponse :\n",
    "        zone_de_deplacement = reponse[0].text\n",
    "\n",
    "    reponse = information.find_elements(By.XPATH, \"./h4[text()='Secteur d’activité du poste']/following-sibling::span\")\n",
    "    if reponse :\n",
    "        secteur_d_activite = reponse[0].text     \n",
    "    \n",
    "    reponse = information.find_elements(By.XPATH, \"./h4[text()='Télétravail']/following-sibling::span\")\n",
    "    if reponse :\n",
    "        Teletravail = reponse[0].text    \n",
    "\n",
    "dictionnaire_annonces['salaire'].append(salaire)\n",
    "dictionnaire_annonces['prise_de_poste'].append(prise_de_poste)\n",
    "dictionnaire_annonces['experience'].append(experience)\n",
    "dictionnaire_annonces['metier'].append( metier)\n",
    "dictionnaire_annonces['statut_du_poste'].append(statut_du_poste)\n",
    "dictionnaire_annonces['zone_de_deplacement'].append(zone_de_deplacement)\n",
    "dictionnaire_annonces['secteur_d_activite'].append(secteur_d_activite)\n",
    "dictionnaire_annonces['Teletravail'].append(Teletravail)\n",
    "\n",
    "\n",
    "#'descriptif_poste' 'profil_recherche' \n",
    "descriptifs = apec_poste_imformations.find_elements(By.XPATH,\"//div[contains(@class, 'details-post')]\")\n",
    "descriptif_poste = None\n",
    "descriptif_profil = None\n",
    "for desc in descriptifs:\n",
    "    reponse = desc.find_elements(By.XPATH, \"./h4[text()='Descriptif du poste']/following-sibling::p\")\n",
    "    if reponse:\n",
    "        descriptif_poste=reponse[0].text\n",
    "    reponse = desc.find_elements(By.XPATH, \"./h4[text()='Profil recherché']/following-sibling::p\")\n",
    "    if reponse:\n",
    "        descriptif_profil=reponse[0].text\n",
    "\n",
    "dictionnaire_annonces['descriptif_poste'].append(descriptif_poste)\n",
    "dictionnaire_annonces['profil_recherche'].append(descriptif_profil)"
   ]
  },
  {
   "cell_type": "code",
   "execution_count": 42,
   "metadata": {},
   "outputs": [
    {
     "name": "stdout",
     "output_type": "stream",
     "text": [
      "Aucune langue attendue\n"
     ]
    }
   ],
   "source": [
    "langues_requises = apec_poste_imformations.find_element(By.CLASS_NAME,\"added-skills-manager__language\")\n",
    "liste_langues_requises= langues_requises.find_elements(By.XPATH, \"//h5[text()='Langues']/../following-sibling::*\")\n",
    "for langue in liste_langues_requises:\n",
    "    print(langue.text)\n",
    "    # dictionnaire_annonces['descriptif_poste'].append(descriptif_poste)\n",
    "\n"
   ]
  },
  {
   "cell_type": "code",
   "execution_count": 18,
   "metadata": {},
   "outputs": [
    {
     "data": {
      "text/plain": [
       "{'entreprise': ['AI&Data'],\n",
       " 'type_contrat': ['1 \\n CDI'],\n",
       " 'deparetement': ['Boulogne-Billancourt - 92'],\n",
       " 'date_publication': ['Publiée le 01/02/2024'],\n",
       " 'date_mise_a_jour': ['Actualisée le 01/02/2024'],\n",
       " 'salaire': ['A négocier'],\n",
       " 'prise_de_poste': ['Dès que possible'],\n",
       " 'experience': ['Minimum 2 ans'],\n",
       " 'metier': ['Data analyst'],\n",
       " 'statut_du_poste': ['Cadre du secteur privé'],\n",
       " 'zone_de_deplacement': ['Nationale'],\n",
       " 'secteur_d_activite': ['TRAITEMENT DE DONNÉES, HÉBERGEMENT ET ACTIVITÉS CONNEXES'],\n",
       " 'Teletravail': [None],\n",
       " 'descriptif_poste': [\"AI&Data  recherche aujourd'hui des Data Analysts expérimentés (2 ans d'expérience minimum) avec une appétence pour le Marketing et ayant de l expérience autour de l exploitation de données clients.\\nNos consultants aident les entreprises à tirer le meilleur parti des données, à mettre en place des solutions opérationnelles, à identifier et mettre en œuvre les projets liés à la transformation digitale.\\nIl s'agira d'intégrer notre Pôle Customer Data Marketing, constitué de Data Analyst, Data Manager, Data Engineer, Chef de projet et Consultants Data Marketing.\\nSur ce poste, vous serez amené à intervenir pour de grandes entreprises sur des projets à forte valeur ajoutée. Les principales tâches à réaliser seront :\\n-       Mener des analyses exploratoires sur des données marketing, créer des algorithmes de recherche de données, gérer l administration, la modélisation des gisements de données et s assurer du bon fonctionnement des bases de données.\\n-       Être force de proposition pour apporter un regard analytique sur des problématiques métiers et/ou business : savoir traduire et synthétiser des informations pour faciliter la prise de décision.\\n-       Contribuer à la mise en place de projet de transformations data-driven au sein des métiers\\n-       Communiquer avec les métiers et les équipes tech/data\\n-       Réaliser des dashbords clairs et synthétiques\\n-       Savoir restituer des résultats corrects.\\n-       Documenter les travaux réalisés\"],\n",
       " 'profil_recherche': ['De formation supérieure en statistiques et mathématiques, vous justifiez d au moins 2 années d expérience acquises dans le traitement des données et les études statistiques, idéalement en société de services, dans un département de type « connaissance client » ou R&D.\\nVous disposez des compétences techniques confirmées en :\\n-       SQL\\n-       Data Visualisation / Dashbord : Data studio, Power BI, Tableau Software\\n-       Connaissance des différents cloud (exemple : GCP, Azure ou AWS)\\nCe poste nécessite d avoir une grande capacité d adaptation, un bon relationnel pour communiquer à la fois avec des personnes techniques mais également des personnes issues du métiers ; une appétence business et la capacité à analyser et comprendre les enjeux.'],\n",
       " 'langues': [],\n",
       " 'savoir_etre': [],\n",
       " 'savoir_faire': [],\n",
       " 'descriptif_entreprise': []}"
      ]
     },
     "execution_count": 18,
     "metadata": {},
     "output_type": "execute_result"
    }
   ],
   "source": [
    "dictionnaire_annonces"
   ]
  },
  {
   "cell_type": "markdown",
   "metadata": {},
   "source": [
    "## Toujours garder ce quit pour fermer la fenetre ouverte à la fin :"
   ]
  },
  {
   "cell_type": "code",
   "execution_count": null,
   "metadata": {},
   "outputs": [],
   "source": [
    "browser.quit()"
   ]
  }
 ],
 "metadata": {
  "kernelspec": {
   "display_name": "Python 3",
   "language": "python",
   "name": "python3"
  },
  "language_info": {
   "codemirror_mode": {
    "name": "ipython",
    "version": 3
   },
   "file_extension": ".py",
   "mimetype": "text/x-python",
   "name": "python",
   "nbconvert_exporter": "python",
   "pygments_lexer": "ipython3",
   "version": "3.8.10"
  }
 },
 "nbformat": 4,
 "nbformat_minor": 2
}
