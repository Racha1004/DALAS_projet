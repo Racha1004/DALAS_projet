{
 "cells": [
  {
   "cell_type": "markdown",
   "metadata": {},
   "source": [
    "## Autuliser plus tard :\n",
    "Pour le bouton voir plus des competance\n",
    "Obtenir \"Voir plus\" :\n",
    "Si vous avez besoin de cliquer sur un bouton \"Voir plus\" pour charger davantage de contenu sur la page, vous pourriez avoir besoin d'une approche basée sur Selenium, car cela implique une interaction avec la page.\n",
    "\n"
   ]
  },
  {
   "cell_type": "code",
   "execution_count": null,
   "metadata": {},
   "outputs": [],
   "source": [
    "python\n",
    "Copy code\n",
    "from selenium import webdriver\n",
    "\n",
    "# Remplacez le chemin du driver par le vôtre\n",
    "driver = webdriver.Chrome(executable_path='/path/to/chromedriver')\n",
    "\n",
    "# Ouvrir la page avec le bouton \"Voir plus\"\n",
    "driver.get('https://example.com')\n",
    "\n",
    "# Trouver le bouton \"Voir plus\" par son sélecteur CSS, XPath, etc.\n",
    "voir_plus_button = driver.find_element_by_css_selector('.voir-plus-button')\n",
    "\n",
    "# Cliquer sur le bouton \"Voir plus\"\n",
    "voir_plus_button.click()\n",
    "\n",
    "# Attendre un peu pour que le contenu supplémentaire soit chargé (si nécessaire)\n",
    "driver.implicitly_wait(5)\n",
    "\n",
    "# Récupérer le contenu mis à jour après avoir cliqué sur \"Voir plus\"\n",
    "updated_html_content = driver.page_source\n",
    "\n",
    "# Utiliser BeautifulSoup pour analyser le HTML mis à jour\n",
    "soup = BeautifulSoup(updated_html_content, 'html.parser')\n",
    "\n",
    "# Continuer à extraire des informations ou effectuer d'autres actions avec BeautifulSoup...\n",
    "\n",
    "# Fermer le navigateur\n",
    "driver.quit()"
   ]
  }
 ],
 "metadata": {
  "kernelspec": {
   "display_name": "Python 3",
   "language": "python",
   "name": "python3"
  },
  "language_info": {
   "name": "python",
   "version": "3.8.10"
  }
 },
 "nbformat": 4,
 "nbformat_minor": 2
}
